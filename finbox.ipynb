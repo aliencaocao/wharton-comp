{
 "cells": [
  {
   "cell_type": "code",
   "execution_count": 30,
   "metadata": {
    "collapsed": true
   },
   "outputs": [],
   "source": [
    "import time\n",
    "from selenium import webdriver\n",
    "from selenium.webdriver.common.by import By\n",
    "from selenium.webdriver.chrome.options import Options\n",
    "from selenium.webdriver.support.ui import WebDriverWait\n",
    "from selenium.webdriver.support import expected_conditions as EC\n",
    "from selenium.common.exceptions import TimeoutException\n",
    "import pandas as pd\n",
    "import requests\n",
    "import orjson as json\n",
    "\n",
    "chrome_options = Options()\n",
    "chrome_options.add_argument(\"--disable-extensions\")\n",
    "chrome_options.add_argument(\"--incognito\")\n",
    "chrome_options.add_argument(\"--proxy-server=socks5://127.0.0.1:9999\")\n",
    "# chrome_options.add_argument(\" --host-resolver-rules='MAP * ~NOTFOUND, EXCLUDE localhost'\")\n",
    "df = pd.read_csv('yahoo_tickers.csv')\n",
    "with open('passed.txt') as f:\n",
    "    tickers = f.read().splitlines()\n",
    "with open('ticker_capm.json') as f:\n",
    "    ticker_capm = json.loads(f.read())\n",
    "# driver = webdriver.Chrome(options=chrome_options)"
   ]
  },
  {
   "cell_type": "code",
   "execution_count": 37,
   "outputs": [],
   "source": [
    "def capm(ticker: str) -> float:\n",
    "    ticker_split = ticker.split('.')[0]\n",
    "    if ticker.endswith('.TO'):\n",
    "        market = 'TSX'\n",
    "    elif ticker.endswith('.SA'):\n",
    "        market = 'BOVESPA'\n",
    "    elif ticker.endswith('.HK'):\n",
    "        market = 'SEHK'\n",
    "        ticker = str(int(ticker))\n",
    "    elif ticker.endswith('.BO'):\n",
    "        r = requests.get(f'https://finbox.com/_/api/v5/search-v2/company?q={ticker_split}').text\n",
    "        r = json.loads(r)\n",
    "        for i in r:\n",
    "            if i['exchange'] == 'BSE':\n",
    "                market, ticker_split = i['full_ticker'].split(':')\n",
    "                break\n",
    "        else:\n",
    "            market = 'NSEI'\n",
    "    elif ticker.endswith('.SZ'):\n",
    "        market = 'SZSE'\n",
    "    elif ticker.endswith('.SS'):\n",
    "        market = 'SHSE'\n",
    "    elif ticker.endswith('.MX'):\n",
    "        market = 'BMV'\n",
    "    elif ticker.endswith('.L'):\n",
    "        if ticker_split == 'WYN':\n",
    "            market = 'AIM'\n",
    "        else:\n",
    "            market = 'LSE'\n",
    "    elif df.loc[df['Ticker'] == ticker, 'Exchange'].to_list()[0] == 'Nasdaq':\n",
    "        if ticker == 'DJCO':\n",
    "            market = 'NASDAQCM'\n",
    "        else:\n",
    "            market = 'NASDAQGS'\n",
    "    elif df.loc[df['Ticker'] == ticker, 'Exchange'].to_list()[0] == 'New York Stock Exchange, Inc.':\n",
    "        market = 'NYSE'\n",
    "    else:\n",
    "        raise Exception('ticker not matched!')\n",
    "    url = f'https://finbox.com/{market}:{ticker_split}/explorer/cost_equity'\n",
    "    driver.get(url)\n",
    "    try:\n",
    "        wacc_tag = WebDriverWait(driver, 10).until(EC.presence_of_element_located((By.XPATH, \"//li[contains(text(), 'cost of equity is')]\")))\n",
    "    except TimeoutException:\n",
    "        print(ticker, 'timed out!')\n",
    "    else:\n",
    "        r = float(wacc_tag.text.split('cost of equity is ')[-1].rstrip('%.').strip())\n",
    "        return r"
   ],
   "metadata": {
    "collapsed": false
   }
  },
  {
   "cell_type": "code",
   "execution_count": 34,
   "outputs": [],
   "source": [
    "ticker_capm = {'000333.SZ': 7.5, '000858.SZ': 8.4, '300760.SZ': 6.4, '600007.SS': 8.0, '600519.SS': 7.6, 'ABT': 7.1, 'AFL': 8.0, 'ALL': 7.9, 'AMD': 8.4, 'AMZN': 8.9, 'ARCB': 10.1, 'ATD.TO': 7.6, 'BABA': 12.0, 'BBSE3.SA': 9.9, 'CASY': 7.8, 'CIPLA.BO': 7.6, 'COST': 6.9, 'CTSH': 7.6, 'CTVA': 7.6, 'DJCO': 8.6, 'ECLERX.BO': 9.9, 'FCN': 7.3, 'FFH.TO': 11.3, 'FTNT': 7.5, 'GOOG': 7.9, 'GRMN': 7.9, 'GWO.TO': 9.4, 'HCLTECH.BO': 8.9, 'HDFCBANK.BO': 9.1, 'HSBA.L': 8.8, 'ICICIBANK.BO': 9.1, 'INFY.BO': 8.9, 'JJSF': 6.3, 'JPM': 8.3, 'LLOY.L': 8.5, 'LMT': 7.3, 'LULU': 7.5, 'MANH': 8.2, 'MET': 16.3, 'META': 7.9, 'MOV': 8.6, 'MSFT': 7.6, 'MTB': 7.5, 'NFLX': 8.8, 'NIITLTD.BO': 8.9, 'NOC': 8.5, 'NTES': 10.3, 'PFE': 6.1}"
   ],
   "metadata": {
    "collapsed": false
   }
  },
  {
   "cell_type": "code",
   "execution_count": 41,
   "outputs": [
    {
     "name": "stdout",
     "output_type": "stream",
     "text": [
      "WYN.L\n"
     ]
    }
   ],
   "source": [
    "driver = webdriver.Chrome(options=chrome_options)\n",
    "for ticker in tickers[66:]:\n",
    "    print(ticker)\n",
    "    ticker_capm[ticker] = capm(ticker)"
   ],
   "metadata": {
    "collapsed": false
   }
  },
  {
   "cell_type": "code",
   "execution_count": 42,
   "outputs": [],
   "source": [
    "with open('ticker_capm.json', 'w+') as f:\n",
    "    f.write(json.dumps(ticker_capm).decode())"
   ],
   "metadata": {
    "collapsed": false
   }
  }
 ],
 "metadata": {
  "kernelspec": {
   "display_name": "Python 3",
   "language": "python",
   "name": "python3"
  },
  "language_info": {
   "codemirror_mode": {
    "name": "ipython",
    "version": 2
   },
   "file_extension": ".py",
   "mimetype": "text/x-python",
   "name": "python",
   "nbconvert_exporter": "python",
   "pygments_lexer": "ipython2",
   "version": "2.7.6"
  }
 },
 "nbformat": 4,
 "nbformat_minor": 0
}
