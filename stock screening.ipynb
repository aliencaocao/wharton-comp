{
 "cells": [
  {
   "cell_type": "code",
   "execution_count": 12,
   "outputs": [],
   "source": [
    "import pandas as pd\n",
    "from stock_screening_local import *\n",
    "import pickle"
   ],
   "metadata": {
    "collapsed": false,
    "pycharm": {
     "name": "#%%\n"
    }
   }
  },
  {
   "cell_type": "code",
   "execution_count": 2,
   "outputs": [],
   "source": [
    "ticker_info = pd.read_csv('yahoo_tickers.csv')\n",
    "all_tickers = ticker_info['Ticker'].tolist()\n",
    "all_tickers.sort()"
   ],
   "metadata": {
    "collapsed": false,
    "pycharm": {
     "name": "#%%\n"
    }
   }
  },
  {
   "cell_type": "code",
   "execution_count": null,
   "outputs": [],
   "source": [
    "ticker_ratios = {ticker: {} for ticker in all_tickers}\n",
    "for i, ticker in enumerate(all_tickers):\n",
    "    print(i, ticker)\n",
    "    ticker_ratios[ticker] = {'quick_ratio': quick_ratio(ticker, latest=True, period=-1),\n",
    "                             'cash_ratio': cash_ratio(ticker, latest=True, period=-1),\n",
    "                             'operating_cash_ratio': operating_cash_ratio(ticker, latest=True, period=-1),\n",
    "                             'interest_coverage_ratio': interest_coverage_ratio(ticker, latest=True, period=-1),\n",
    "                             'debt_service_coverage_ratio': debt_service_coverage_ratio(ticker, latest=True, period=-1),\n",
    "                             'asset_coverage_ratio': asset_coverage_ratio(ticker, latest=True, period=-1),\n",
    "                             'cash_coverage_ratio': cash_coverage_ratio(ticker, latest=True, period=-1),\n",
    "                             'total_debt_to_tangible_book_value_ratio': total_debt_to_tangible_book_value_ratio(ticker, latest=True, period=-1),\n",
    "                             'total_debt_to_total_assets_ratio': total_debt_to_total_assets_ratio(ticker, latest=True, period=-1),\n",
    "                             'total_debt_to_EBITDA_ratio': total_debt_to_EBITDA_ratio(ticker, latest=True, period=-1)}\n",
    "    if all([v is not None for v in ticker_ratios[ticker].values()]):\n",
    "        print(f'{i} {ticker} PASSED!')\n",
    "with open('ticker_ratios.pickle', 'wb') as f:\n",
    "    pickle.dump(ticker_ratios, f)"
   ],
   "metadata": {
    "collapsed": false,
    "pycharm": {
     "is_executing": true,
     "name": "#%%\n"
    }
   }
  },
  {
   "cell_type": "code",
   "execution_count": 4,
   "outputs": [
    {
     "data": {
      "text/plain": "{\"'annualEBITDA'\": 1089,\n \"'annualCurrentLiabilities'\": 648,\n \"'annualTotalNonCurrentLiabilitiesNetMinorityInterest'\": 648,\n \"'annualInventory'\": 409,\n \"'annualDepreciationAmortizationDepletion'\": 357,\n \"'annualAmortizationOfSecurities'\": 331,\n \"'annualCurrentDebt'\": 258,\n \"'annualOperatingIncome'\": 220,\n \"'annualInterestExpense'\": 168,\n \"'annualInterestExpenseNonOperating'\": 168,\n \"'annualCurrentAssets'\": 151,\n \"'annualTotalNonCurrentAssets'\": 151,\n \"'annualLongTermDebt'\": 142,\n \"'annualEBIT'\": 141,\n \"'annualTotalOtherFinanceCost'\": 132,\n \"'annualGoodwillAndOtherIntangibleAssets'\": 96,\n \"'annualReconciledDepreciation'\": 64,\n \"'annualTotalDebt'\": 64,\n \"'annualNormalizedEBITDA'\": 16}"
     },
     "execution_count": 4,
     "metadata": {},
     "output_type": "execute_result"
    }
   ],
   "source": [
    "with open('output.txt', 'r') as f:\n",
    "    lines = f.read().splitlines()\n",
    "missing_fields = {}\n",
    "for line in lines:\n",
    "    field = line.split(': ')[-1]\n",
    "    if field.startswith('\\'') and field.endswith('\\'') and 'NoneType' not in field:\n",
    "        try:\n",
    "            missing_fields[field] += 1\n",
    "        except KeyError:\n",
    "            missing_fields[field] = 1\n",
    "missing_fields = {k: missing_fields[k] for k in sorted(missing_fields.keys(), key=missing_fields.get, reverse=True)}\n",
    "missing_fields"
   ],
   "metadata": {
    "collapsed": false,
    "pycharm": {
     "name": "#%%\n"
    }
   }
  },
  {
   "cell_type": "code",
   "execution_count": 3,
   "outputs": [],
   "source": [
    "with open('ticker_ratios.pickle', 'rb') as f:\n",
    "    ticker_ratios = pickle.load(f)"
   ],
   "metadata": {
    "collapsed": false,
    "pycharm": {
     "name": "#%%\n"
    }
   }
  },
  {
   "cell_type": "code",
   "execution_count": 5,
   "outputs": [
    {
     "data": {
      "text/plain": "{'quick_ratio': 132,\n 'asset_coverage_ratio': 110,\n 'debt_service_coverage_ratio': 64,\n 'cash_ratio': 55,\n 'operating_cash_ratio': 55,\n 'cash_coverage_ratio': 14,\n 'interest_coverage_ratio': 11,\n 'total_debt_to_EBITDA_ratio': 6,\n 'total_debt_to_tangible_book_value_ratio': 4,\n 'total_debt_to_total_assets_ratio': 4}"
     },
     "execution_count": 5,
     "metadata": {},
     "output_type": "execute_result"
    }
   ],
   "source": [
    "missing_ratios_count = {}\n",
    "for ratios in ticker_ratios.values():\n",
    "    for ratio, value in ratios.items():\n",
    "        if value is None:\n",
    "            try:\n",
    "                missing_ratios_count[ratio] += 1\n",
    "            except KeyError:\n",
    "                missing_ratios_count[ratio] = 1\n",
    "\n",
    "missing_ratios_count = {k: missing_ratios_count[k] for k in sorted(missing_ratios_count.keys(), key=missing_ratios_count.get, reverse=True)}\n",
    "missing_ratios_count"
   ],
   "metadata": {
    "collapsed": false,
    "pycharm": {
     "name": "#%%\n"
    }
   }
  },
  {
   "cell_type": "code",
   "execution_count": 6,
   "outputs": [
    {
     "name": "stdout",
     "output_type": "stream",
     "text": [
      "0939.HK\n",
      "BBSE3.SA\n",
      "DB\n",
      "GMED\n",
      "HTLD\n",
      "MNST\n"
     ]
    }
   ],
   "source": [
    "for ticker, ratios in ticker_ratios.items():\n",
    "    if ratios['total_debt_to_EBITDA_ratio'] is None:\n",
    "        print(ticker)"
   ],
   "metadata": {
    "collapsed": false,
    "pycharm": {
     "name": "#%%\n"
    }
   }
  },
  {
   "cell_type": "code",
   "execution_count": 7,
   "outputs": [],
   "source": [
    "def pass_ratio(ticker, ratio, higher_better=True) -> bool:  # return whether pass or not\n",
    "    # Data below taken from 2022 Q2 on https://csimarket.com/Industry/Industry_Data.php\n",
    "    sector_mean_ratios = {'Consumer Discretionary': {'quick_ratio': 0.44, 'interest_coverage_ratio': 14, 'debt_service_coverage_ratio': 1.99},  # Consumer Discretionary\n",
    "                     'Financials': {'quick_ratio': 0.73, 'interest_coverage_ratio': 4.45, 'debt_service_coverage_ratio': 1.64},  # Financials\n",
    "                     'Industrials': {'quick_ratio': 0.32, 'interest_coverage_ratio': 15.08, 'debt_service_coverage_ratio': 4.89},  # Capital Goods\n",
    "                     'Consumer Staples': {'quick_ratio': 0.24, 'interest_coverage_ratio': 13.66, 'debt_service_coverage_ratio': 7.555},  # avg of Consumer Non Cyclical and Retail\n",
    "                     'Information Technology': {'quick_ratio': 0.84, 'interest_coverage_ratio': 37.21, 'debt_service_coverage_ratio': 8.64},  # Technology\n",
    "                     'Health Care': {'quick_ratio': 0.76, 'interest_coverage_ratio': 13.06, 'debt_service_coverage_ratio': 4.99},  # Healthcare\n",
    "                     'Materials': {'quick_ratio': 0.35, 'interest_coverage_ratio': 19.28, 'debt_service_coverage_ratio': 7.38},  # Basic materials\n",
    "                     'Communication Services': {'quick_ratio': 0.26, 'interest_coverage_ratio': 9.15, 'debt_service_coverage_ratio': 3.5},\n",
    "                     'Utilities': {'quick_ratio': 0.14, 'interest_coverage_ratio': 6.05, 'debt_service_coverage_ratio': 2},  # Utilities\n",
    "                     'Energy': {'quick_ratio': 0.24, 'interest_coverage_ratio': 23.36, 'debt_service_coverage_ratio': 16.49},  # Energy\n",
    "                     'Real Estate': {'quick_ratio': 0.93, 'interest_coverage_ratio': 7.21, 'debt_service_coverage_ratio': 4.87}}  # Real Estate Operations\n",
    "\n",
    "    ratio_value = ticker_ratios[ticker][ratio]\n",
    "    if ratio_value is None:  # allow BOD\n",
    "        return True\n",
    "    ticker_sector = ticker_info.loc[ticker_info['Ticker'] == ticker]['GICS Sector'].to_list()[0]\n",
    "    if ratio in sector_mean_ratios['Energy'].keys():  # 'energy is just example, no specific meaning\n",
    "        return ratio_value >= sector_mean_ratios[ticker_sector][ratio] if higher_better else ratio_value <= sector_mean_ratios[ticker_sector][ratio]\n",
    "    else:\n",
    "        same_sector_tickers = ticker_info[ticker_info['GICS Sector'] == ticker_sector]['Ticker'].to_list()\n",
    "        ratios = [ticker_ratios[ticker][ratio] for ticker in same_sector_tickers if ticker_ratios[ticker][ratio] is not None]  # TODO: see what to do to handle None values, for now just ignore\n",
    "        ratios.append(ratio_value)\n",
    "        ratios.sort()  # ascending\n",
    "        percentile = ratios.index(ratio_value) / len(ratios) * 100  # top x percentile\n",
    "        return percentile >= 50 if higher_better else percentile <= 50\n",
    "\n",
    "def screen_stock(ticker: str) -> bool:\n",
    "    ticker = ticker.upper()\n",
    "    z_score = altman_z_score(ticker, latest=True, period=-1)\n",
    "    if z_score is not None and z_score <= 1.1:  # allow BOD\n",
    "        return False\n",
    "\n",
    "    # Ratios {ratio name: higher better}\n",
    "    key_ratios = {'quick_ratio': True, 'debt_service_coverage_ratio': True, 'total_debt_to_total_assets_ratio': False}  # must pass\n",
    "    normal_ratios = {'cash_ratio': True, 'operating_cash_ratio': True, 'interest_coverage_ratio': True, 'asset_coverage_ratio': True, 'cash_coverage_ratio': True, 'total_debt_to_tangible_book_value_ratio': False, 'total_debt_to_EBITDA_ratio': False}\n",
    "    passed_ratio_count = 0\n",
    "    liquidity = False\n",
    "    coverage = False\n",
    "    leverage = False\n",
    "    liquidity_ratios = ['quick_ratio', 'cash_ratio', 'operating_cash_ratio']\n",
    "    coverage_ratios = ['interest_coverage_ratio', 'debt_service_coverage_ratio', 'asset_coverage_ratio', 'cash_coverage_ratio']\n",
    "    leverage_ratios = ['total_debt_to_tangible_book_value_ratio', 'total_debt_to_total_assets_ratio', 'total_debt_to_EBITDA_ratio']\n",
    "    for ratio, higher_better in key_ratios.items():\n",
    "        if pass_ratio(ticker, ratio, higher_better):\n",
    "            passed_ratio_count += 1\n",
    "            liquidity = ratio in liquidity_ratios if not liquidity else True\n",
    "            coverage = ratio in coverage_ratios if not coverage else True\n",
    "            leverage = ratio in leverage_ratios if not leverage else True\n",
    "        else:\n",
    "            return False  # must pass all key ratios\n",
    "    for ratio, higher_better in normal_ratios.items():\n",
    "        if pass_ratio(ticker, ratio, higher_better):\n",
    "            passed_ratio_count += 1\n",
    "            liquidity = ratio in liquidity_ratios if not liquidity else True\n",
    "            coverage = ratio in coverage_ratios if not coverage else True\n",
    "            leverage = ratio in leverage_ratios if not leverage else True\n",
    "    if passed_ratio_count < 6 or not (liquidity and coverage and leverage):  # must pass 6/10 ratios and at least 1 in each category\n",
    "        return False\n",
    "\n",
    "    # F-score\n",
    "    f_score = F_score(ticker, latest=True, period=-1)\n",
    "    if f_score is not None and f_score < 6:  # F score need to be >= 6 to pass, allow BOD\n",
    "        return False\n",
    "    return True"
   ],
   "metadata": {
    "collapsed": false,
    "pycharm": {
     "name": "#%%\n"
    }
   }
  },
  {
   "cell_type": "code",
   "execution_count": 8,
   "outputs": [],
   "source": [
    "%%capture cap --no-stderr  # to disable output\n",
    "passed_stocks = [ticker for ticker in all_tickers if screen_stock(ticker)]"
   ],
   "metadata": {
    "collapsed": false,
    "pycharm": {
     "name": "#%%\n"
    }
   }
  },
  {
   "cell_type": "code",
   "execution_count": 10,
   "outputs": [
    {
     "data": {
      "text/plain": "['000333.SZ',\n '000858.SZ',\n '0384.HK',\n '0914.HK',\n '300760.SZ',\n '600007.SS',\n '600519.SS',\n 'ABT',\n 'AFL',\n 'ALL',\n 'AMD',\n 'AMZN',\n 'ARCB',\n 'ATD.TO',\n 'BABA',\n 'BBSE3.SA',\n 'BHP.L',\n 'BLK',\n 'CASY',\n 'CIPLA.BO',\n 'CJT.TO',\n 'CLIG.L',\n 'COST',\n 'CTSH',\n 'CTVA',\n 'CVX',\n 'DJCO',\n 'DRREDDY.BO',\n 'ECLERX.BO',\n 'ELET3.SA',\n 'ENGH.TO',\n 'FCN',\n 'FCX',\n 'FFH.TO',\n 'FFHL',\n 'FIZZ',\n 'FTNT',\n 'GOOG',\n 'GRMN',\n 'GWO.TO',\n 'HCLTECH.BO',\n 'HDFCBANK.BO',\n 'HSBA.L',\n 'HTLD',\n 'ICICIBANK.BO',\n 'INFY.BO',\n 'ITC.BO',\n 'JJSF',\n 'JPM',\n 'LLOY.L',\n 'LMT',\n 'LULU',\n 'MANH',\n 'MET',\n 'META',\n 'MOV',\n 'MSFT',\n 'MTB',\n 'NESTLEIND.BO',\n 'NFLX',\n 'NIITLTD.BO',\n 'NOC',\n 'NTES',\n 'NVS',\n 'ONB',\n 'PFE',\n 'PG',\n 'PNC',\n 'PRU',\n 'RF',\n 'RGLD',\n 'RIO.L',\n 'SBIN.BO',\n 'SDR.L',\n 'SEIC',\n 'SSE.L',\n 'SUNPHARMA.BO',\n 'SWBI',\n 'TCS.BO',\n 'TM',\n 'TR',\n 'TREX',\n 'TROW',\n 'TSLA',\n 'TSN',\n 'TXRH',\n 'UAA',\n 'UGI',\n 'ULTA',\n 'ULTRACEMCO.BO',\n 'UNH',\n 'VALE3.SA',\n 'VEEV',\n 'WDFC',\n 'WMT',\n 'WSM',\n 'WYN.L',\n 'XOM',\n 'ZTO']"
     },
     "execution_count": 10,
     "metadata": {},
     "output_type": "execute_result"
    }
   ],
   "source": [
    "with open('passed.txt', 'w+') as f:\n",
    "    f.write('\\n'.join(passed_stocks))\n",
    "passed_stocks"
   ],
   "metadata": {
    "collapsed": false,
    "pycharm": {
     "name": "#%%\n"
    }
   }
  },
  {
   "cell_type": "code",
   "execution_count": 11,
   "outputs": [],
   "source": [
    "with open('passed.txt', 'r') as f:\n",
    "    passed_stocks = f.read().splitlines()"
   ],
   "metadata": {
    "collapsed": false,
    "pycharm": {
     "name": "#%%\n"
    }
   }
  },
  {
   "cell_type": "code",
   "execution_count": 24,
   "outputs": [
    {
     "name": "stdout",
     "output_type": "stream",
     "text": [
      "0 000333.SZ\n",
      "1 000858.SZ\n",
      "2 0384.HK\n",
      "3 0914.HK\n",
      "4 300760.SZ\n",
      "5 600007.SS\n",
      "6 600519.SS\n",
      "7 ABT\n",
      "8 AFL\n",
      "9 ALL\n",
      "10 AMD\n",
      "11 AMZN\n",
      "12 ARCB\n",
      "13 ATD.TO\n",
      "14 BABA\n",
      "15 BBSE3.SA\n",
      "16 BHP.L\n",
      "17 BLK\n",
      "18 CASY\n",
      "19 CIPLA.BO\n",
      "20 CJT.TO\n",
      "21 CLIG.L\n",
      "22 COST\n",
      "23 CTSH\n",
      "24 CTVA\n",
      "25 CVX\n",
      "26 DJCO\n",
      "27 DRREDDY.BO\n",
      "28 ECLERX.BO\n",
      "29 ELET3.SA\n",
      "30 ENGH.TO\n",
      "31 FCN\n",
      "32 FCX\n",
      "33 FFH.TO\n",
      "34 FFHL\n",
      "35 FIZZ\n",
      "36 FTNT\n",
      "37 GOOG\n",
      "38 GRMN\n",
      "39 GWO.TO\n",
      "40 HCLTECH.BO\n",
      "41 HDFCBANK.BO\n",
      "42 HSBA.L\n",
      "43 HTLD\n",
      "44 ICICIBANK.BO\n",
      "45 INFY.BO\n",
      "46 ITC.BO\n",
      "47 JJSF\n",
      "48 JPM\n",
      "49 LLOY.L\n",
      "50 LMT\n",
      "51 LULU\n",
      "52 MANH\n",
      "53 MET\n",
      "54 META\n",
      "55 MOV\n",
      "56 MSFT\n",
      "57 MTB\n",
      "58 NESTLEIND.BO\n",
      "59 NFLX\n",
      "60 NIITLTD.BO\n",
      "61 NOC\n",
      "62 NTES\n",
      "63 NVS\n",
      "64 ONB\n",
      "65 PFE\n",
      "66 PG\n",
      "67 PNC\n",
      "68 PRU\n",
      "69 RF\n",
      "70 RGLD\n",
      "71 RIO.L\n",
      "72 SBIN.BO\n",
      "73 SDR.L\n",
      "74 SEIC\n",
      "75 SSE.L\n",
      "76 SUNPHARMA.BO\n",
      "77 SWBI\n",
      "78 TCS.BO\n",
      "79 TM\n",
      "80 TR\n",
      "81 TREX\n",
      "82 TROW\n",
      "83 TSLA\n",
      "84 TSN\n",
      "85 TXRH\n",
      "86 UAA\n",
      "87 UGI\n",
      "88 ULTA\n",
      "89 ULTRACEMCO.BO\n",
      "90 UNH\n",
      "91 VALE3.SA\n",
      "92 VEEV\n",
      "93 WDFC\n",
      "94 WMT\n",
      "95 WSM\n",
      "96 WYN.L\n",
      "97 XOM\n",
      "98 ZTO\n"
     ]
    }
   ],
   "source": [
    "import yfinance as yf\n",
    "esg_env_scores = {}\n",
    "for i, ticker in enumerate(passed_stocks):\n",
    "    print(i, ticker)\n",
    "    ticker = yf.Ticker(ticker)\n",
    "    sus = ticker.sustainability\n",
    "    if sus is not None:\n",
    "        sus = sus.to_dict()['Value']\n",
    "        if 'environmentScore' in sus:\n",
    "            esg_env_scores[ticker.ticker] = sus['environmentScore']\n",
    "    else:\n",
    "        esg_env_scores[ticker.ticker] = None"
   ],
   "metadata": {
    "collapsed": false,
    "pycharm": {
     "name": "#%%\n"
    }
   }
  },
  {
   "cell_type": "code",
   "execution_count": 26,
   "outputs": [],
   "source": [
    "import orjson as json\n",
    "with open('ticker_esg.json', 'w+') as f:\n",
    "    f.write(json.dumps(esg_env_scores).decode('utf-8'))"
   ],
   "metadata": {
    "collapsed": false,
    "pycharm": {
     "name": "#%%\n"
    }
   }
  },
  {
   "cell_type": "code",
   "execution_count": 43,
   "outputs": [],
   "source": [
    "with open('ticker_esg.json', 'r') as f:\n",
    "    esg_env_scores = json.loads(f.read())"
   ],
   "metadata": {
    "collapsed": false,
    "pycharm": {
     "name": "#%%\n"
    }
   }
  },
  {
   "cell_type": "code",
   "execution_count": 44,
   "outputs": [
    {
     "data": {
      "text/plain": "(array([ 7., 18.,  8.,  4.,  2.,  3.,  0.,  2.,  1.,  0.,  2.,  2.,  0.,\n         1.,  1.,  3.,  1.,  2.,  1.,  3.]),\n array([ 0.03 ,  0.959,  1.888,  2.817,  3.746,  4.675,  5.604,  6.533,\n         7.462,  8.391,  9.32 , 10.249, 11.178, 12.107, 13.036, 13.965,\n        14.894, 15.823, 16.752, 17.681, 18.61 ]),\n <BarContainer object of 20 artists>)"
     },
     "execution_count": 44,
     "metadata": {},
     "output_type": "execute_result"
    },
    {
     "data": {
      "text/plain": "<Figure size 640x480 with 1 Axes>",
      "image/png": "[encoded data removed]"
     },
     "metadata": {},
     "output_type": "display_data"
    }
   ],
   "source": [
    "from matplotlib import pyplot as plt\n",
    "env_scores = [float(score) for score in esg_env_scores.values() if score]\n",
    "plt.hist(env_scores, bins=20)"
   ],
   "metadata": {
    "collapsed": false,
    "pycharm": {
     "name": "#%%\n"
    }
   }
  },
  {
   "cell_type": "code",
   "execution_count": 45,
   "outputs": [
    {
     "data": {
      "text/plain": "{'000333.SZ': None,\n '000858.SZ': None,\n '300760.SZ': None,\n '600007.SS': None,\n 'ABT': 3.03,\n 'AFL': 0.47,\n 'ALL': 1.44,\n 'AMD': None,\n 'AMZN': 5.59,\n 'ARCB': None,\n 'BABA': None,\n 'BBSE3.SA': 0.07,\n 'BLK': 1.49,\n 'CASY': None,\n 'CIPLA.BO': 2.1,\n 'CJT.TO': None,\n 'CLIG.L': None,\n 'COST': 7.26,\n 'CTSH': 1.11,\n 'CTVA': None,\n 'DJCO': None,\n 'DRREDDY.BO': 1.7,\n 'ECLERX.BO': None,\n 'ELET3.SA': None,\n 'ENGH.TO': None,\n 'FCN': None,\n 'FFH.TO': 2.33,\n 'FFHL': None,\n 'FIZZ': None,\n 'FTNT': 1.23,\n 'GOOG': None,\n 'GRMN': 5.4,\n 'GWO.TO': 2.25,\n 'HCLTECH.BO': 1.02,\n 'HDFCBANK.BO': 2.08,\n 'HSBA.L': 1.16,\n 'HTLD': None,\n 'ICICIBANK.BO': 3.1,\n 'INFY.BO': 1.07,\n 'ITC.BO': 6.83,\n 'JJSF': None,\n 'JPM': 1.11,\n 'LLOY.L': 0.6,\n 'LMT': 5.27,\n 'LULU': 1.62,\n 'MANH': None,\n 'MET': 0.73,\n 'META': 1.02,\n 'MOV': None,\n 'MSFT': 1.53,\n 'MTB': 2.2,\n 'NFLX': 0.09,\n 'NIITLTD.BO': None,\n 'NOC': 7.47,\n 'NTES': None,\n 'NVS': None,\n 'ONB': None,\n 'PFE': 2.83,\n 'PG': 9.54,\n 'PNC': 1.73,\n 'PRU': 1.03,\n 'RF': 1.6,\n 'RGLD': None,\n 'SBIN.BO': 2.86,\n 'SDR.L': 1.72,\n 'SEIC': 0.95,\n 'SUNPHARMA.BO': 2.57,\n 'SWBI': None,\n 'TCS.BO': 1,\n 'TM': None,\n 'TR': None,\n 'TREX': None,\n 'TROW': 2.36,\n 'TSLA': 2.78,\n 'TXRH': None,\n 'UAA': 1.79,\n 'ULTA': 3.83,\n 'UNH': 0.03,\n 'VEEV': None,\n 'WDFC': None,\n 'WMT': 4.4,\n 'WSM': None,\n 'WYN.L': None,\n 'ZTO': None}"
     },
     "execution_count": 45,
     "metadata": {},
     "output_type": "execute_result"
    }
   ],
   "source": [
    "# esg_env_scores = {k: v for k, v in esg_env_scores.items() if v}\n",
    "# esg_env_scores = {k: esg_env_scores[k] for k in sorted(esg_env_scores.keys(), key=esg_env_scores.get, reverse=True)}\n",
    "esg_env_scores = {k: v for k, v in esg_env_scores.items() if v is None or v<10}\n",
    "esg_env_scores"
   ],
   "metadata": {
    "collapsed": false,
    "pycharm": {
     "name": "#%%\n"
    }
   }
  }
 ],
 "metadata": {
  "kernelspec": {
   "display_name": "Python 3",
   "language": "python",
   "name": "python3"
  },
  "language_info": {
   "codemirror_mode": {
    "name": "ipython",
    "version": 2
   },
   "file_extension": ".py",
   "mimetype": "text/x-python",
   "name": "python",
   "nbconvert_exporter": "python",
   "pygments_lexer": "ipython2",
   "version": "2.7.6"
  }
 },
 "nbformat": 4,
 "nbformat_minor": 0
}