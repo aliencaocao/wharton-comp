{
 "cells": [
  {
   "cell_type": "code",
   "execution_count": 1,
   "outputs": [],
   "source": [
    "import pandas as pd\n",
    "from stock_screening_local import *\n",
    "import pickle"
   ],
   "metadata": {
    "collapsed": false
   }
  },
  {
   "cell_type": "code",
   "execution_count": 2,
   "outputs": [],
   "source": [
    "ticker_info = pd.read_csv('yahoo_tickers.csv')\n",
    "all_tickers = ticker_info['Ticker'].tolist()\n",
    "all_tickers.sort()"
   ],
   "metadata": {
    "collapsed": false
   }
  },
  {
   "cell_type": "code",
   "execution_count": null,
   "outputs": [],
   "source": [
    "ticker_ratios = {ticker: {} for ticker in all_tickers}\n",
    "for i, ticker in enumerate(all_tickers):\n",
    "    print(i, ticker)\n",
    "    ticker_ratios[ticker] = {'quick_ratio': quick_ratio(ticker, latest=True, period=-1),\n",
    "                             'cash_ratio': cash_ratio(ticker, latest=True, period=-1),\n",
    "                             'operating_cash_ratio': operating_cash_ratio(ticker, latest=True, period=-1),\n",
    "                             'interest_coverage_ratio': interest_coverage_ratio(ticker, latest=True, period=-1),\n",
    "                             'debt_service_coverage_ratio': debt_service_coverage_ratio(ticker, latest=True, period=-1),\n",
    "                             'asset_coverage_ratio': asset_coverage_ratio(ticker, latest=True, period=-1),\n",
    "                             'cash_coverage_ratio': cash_coverage_ratio(ticker, latest=True, period=-1),\n",
    "                             'total_debt_to_tangible_book_value_ratio': total_debt_to_tangible_book_value_ratio(ticker, latest=True, period=-1),\n",
    "                             'total_debt_to_total_assets_ratio': total_debt_to_total_assets_ratio(ticker, latest=True, period=-1),\n",
    "                             'total_debt_to_EBITDA_ratio': total_debt_to_EBITDA_ratio(ticker, latest=True, period=-1)}\n",
    "    if all([v is not None for v in ticker_ratios[ticker].values()]):\n",
    "        print(f'{i} {ticker} PASSED!')\n",
    "with open('ticker_ratios.pickle', 'wb') as f:\n",
    "    pickle.dump(ticker_ratios, f)"
   ],
   "metadata": {
    "collapsed": false,
    "pycharm": {
     "is_executing": true
    }
   }
  },
  {
   "cell_type": "code",
   "execution_count": 4,
   "outputs": [
    {
     "data": {
      "text/plain": "{\"'annualEBITDA'\": 1089,\n \"'annualCurrentLiabilities'\": 648,\n \"'annualTotalNonCurrentLiabilitiesNetMinorityInterest'\": 648,\n \"'annualInventory'\": 409,\n \"'annualDepreciationAmortizationDepletion'\": 357,\n \"'annualAmortizationOfSecurities'\": 331,\n \"'annualCurrentDebt'\": 258,\n \"'annualOperatingIncome'\": 220,\n \"'annualInterestExpense'\": 168,\n \"'annualInterestExpenseNonOperating'\": 168,\n \"'annualCurrentAssets'\": 151,\n \"'annualTotalNonCurrentAssets'\": 151,\n \"'annualLongTermDebt'\": 142,\n \"'annualEBIT'\": 141,\n \"'annualTotalOtherFinanceCost'\": 132,\n \"'annualGoodwillAndOtherIntangibleAssets'\": 96,\n \"'annualReconciledDepreciation'\": 64,\n \"'annualTotalDebt'\": 64,\n \"'annualNormalizedEBITDA'\": 16}"
     },
     "execution_count": 4,
     "metadata": {},
     "output_type": "execute_result"
    }
   ],
   "source": [
    "with open('output.txt', 'r') as f:\n",
    "    lines = f.read().splitlines()\n",
    "missing_fields = {}\n",
    "for line in lines:\n",
    "    field = line.split(': ')[-1]\n",
    "    if field.startswith('\\'') and field.endswith('\\'') and 'NoneType' not in field:\n",
    "        try:\n",
    "            missing_fields[field] += 1\n",
    "        except KeyError:\n",
    "            missing_fields[field] = 1\n",
    "missing_fields = {k: missing_fields[k] for k in sorted(missing_fields.keys(), key=missing_fields.get, reverse=True)}\n",
    "missing_fields"
   ],
   "metadata": {
    "collapsed": false
   }
  },
  {
   "cell_type": "code",
   "execution_count": 3,
   "outputs": [],
   "source": [
    "with open('ticker_ratios.pickle', 'rb') as f:\n",
    "    ticker_ratios = pickle.load(f)"
   ],
   "metadata": {
    "collapsed": false
   }
  },
  {
   "cell_type": "code",
   "execution_count": 5,
   "outputs": [
    {
     "data": {
      "text/plain": "{'quick_ratio': 132,\n 'asset_coverage_ratio': 110,\n 'debt_service_coverage_ratio': 64,\n 'cash_ratio': 55,\n 'operating_cash_ratio': 55,\n 'cash_coverage_ratio': 14,\n 'interest_coverage_ratio': 11,\n 'total_debt_to_EBITDA_ratio': 6,\n 'total_debt_to_tangible_book_value_ratio': 4,\n 'total_debt_to_total_assets_ratio': 4}"
     },
     "execution_count": 5,
     "metadata": {},
     "output_type": "execute_result"
    }
   ],
   "source": [
    "missing_ratios_count = {}\n",
    "for ratios in ticker_ratios.values():\n",
    "    for ratio, value in ratios.items():\n",
    "        if value is None:\n",
    "            try:\n",
    "                missing_ratios_count[ratio] += 1\n",
    "            except KeyError:\n",
    "                missing_ratios_count[ratio] = 1\n",
    "\n",
    "missing_ratios_count = {k: missing_ratios_count[k] for k in sorted(missing_ratios_count.keys(), key=missing_ratios_count.get, reverse=True)}\n",
    "missing_ratios_count"
   ],
   "metadata": {
    "collapsed": false
   }
  },
  {
   "cell_type": "code",
   "execution_count": 6,
   "outputs": [
    {
     "name": "stdout",
     "output_type": "stream",
     "text": [
      "0939.HK\n",
      "BBSE3.SA\n",
      "DB\n",
      "GMED\n",
      "HTLD\n",
      "MNST\n"
     ]
    }
   ],
   "source": [
    "for ticker, ratios in ticker_ratios.items():\n",
    "    if ratios['total_debt_to_EBITDA_ratio'] is None:\n",
    "        print(ticker)"
   ],
   "metadata": {
    "collapsed": false
   }
  },
  {
   "cell_type": "code",
   "execution_count": 7,
   "outputs": [],
   "source": [
    "def pass_ratio(ticker, ratio, higher_better=True) -> bool:  # return whether pass or not\n",
    "    # Data below taken from 2022 Q2 on https://csimarket.com/Industry/Industry_Data.php\n",
    "    sector_mean_ratios = {'Consumer Discretionary': {'quick_ratio': 0.44, 'interest_coverage_ratio': 14, 'debt_service_coverage_ratio': 1.99},  # Consumer Discretionary\n",
    "                     'Financials': {'quick_ratio': 0.73, 'interest_coverage_ratio': 4.45, 'debt_service_coverage_ratio': 1.64},  # Financials\n",
    "                     'Industrials': {'quick_ratio': 0.32, 'interest_coverage_ratio': 15.08, 'debt_service_coverage_ratio': 4.89},  # Capital Goods\n",
    "                     'Consumer Staples': {'quick_ratio': 0.24, 'interest_coverage_ratio': 13.66, 'debt_service_coverage_ratio': 7.555},  # avg of Consumer Non Cyclical and Retail\n",
    "                     'Information Technology': {'quick_ratio': 0.84, 'interest_coverage_ratio': 37.21, 'debt_service_coverage_ratio': 8.64},  # Technology\n",
    "                     'Health Care': {'quick_ratio': 0.76, 'interest_coverage_ratio': 13.06, 'debt_service_coverage_ratio': 4.99},  # Healthcare\n",
    "                     'Materials': {'quick_ratio': 0.35, 'interest_coverage_ratio': 19.28, 'debt_service_coverage_ratio': 7.38},  # Basic materials\n",
    "                     'Communication Services': {'quick_ratio': 0.26, 'interest_coverage_ratio': 9.15, 'debt_service_coverage_ratio': 3.5},\n",
    "                     'Utilities': {'quick_ratio': 0.14, 'interest_coverage_ratio': 6.05, 'debt_service_coverage_ratio': 2},  # Utilities\n",
    "                     'Energy': {'quick_ratio': 0.24, 'interest_coverage_ratio': 23.36, 'debt_service_coverage_ratio': 16.49},  # Energy\n",
    "                     'Real Estate': {'quick_ratio': 0.93, 'interest_coverage_ratio': 7.21, 'debt_service_coverage_ratio': 4.87}}  # Real Estate Operations\n",
    "\n",
    "    ratio_value = ticker_ratios[ticker][ratio]\n",
    "    if ratio_value is None:  # allow BOD\n",
    "        return True\n",
    "    ticker_sector = ticker_info.loc[ticker_info['Ticker'] == ticker]['GICS Sector'].to_list()[0]\n",
    "    if ratio in sector_mean_ratios['Energy'].keys():  # 'energy is just example, no specific meaning\n",
    "        return ratio_value >= sector_mean_ratios[ticker_sector][ratio] if higher_better else ratio_value <= sector_mean_ratios[ticker_sector][ratio]\n",
    "    else:\n",
    "        same_sector_tickers = ticker_info[ticker_info['GICS Sector'] == ticker_sector]['Ticker'].to_list()\n",
    "        ratios = [ticker_ratios[ticker][ratio] for ticker in same_sector_tickers if ticker_ratios[ticker][ratio] is not None]  # TODO: see what to do to handle None values, for now just ignore\n",
    "        ratios.append(ratio_value)\n",
    "        ratios.sort()  # ascending\n",
    "        percentile = ratios.index(ratio_value) / len(ratios) * 100  # top x percentile\n",
    "        return percentile >= 50 if higher_better else percentile <= 50\n",
    "\n",
    "def screen_stock(ticker: str) -> bool:\n",
    "    ticker = ticker.upper()\n",
    "    z_score = altman_z_score(ticker, latest=True, period=-1)\n",
    "    if z_score is not None and z_score <= 1.1:  # allow BOD\n",
    "        return False\n",
    "\n",
    "    # Ratios {ratio name: higher better}\n",
    "    key_ratios = {'quick_ratio': True, 'debt_service_coverage_ratio': True, 'total_debt_to_total_assets_ratio': False}  # must pass\n",
    "    normal_ratios = {'cash_ratio': True, 'operating_cash_ratio': True, 'interest_coverage_ratio': True, 'asset_coverage_ratio': True, 'cash_coverage_ratio': True, 'total_debt_to_tangible_book_value_ratio': False, 'total_debt_to_EBITDA_ratio': False}\n",
    "    passed_ratio_count = 0\n",
    "    liquidity = False\n",
    "    coverage = False\n",
    "    leverage = False\n",
    "    liquidity_ratios = ['quick_ratio', 'cash_ratio', 'operating_cash_ratio']\n",
    "    coverage_ratios = ['interest_coverage_ratio', 'debt_service_coverage_ratio', 'asset_coverage_ratio', 'cash_coverage_ratio']\n",
    "    leverage_ratios = ['total_debt_to_tangible_book_value_ratio', 'total_debt_to_total_assets_ratio', 'total_debt_to_EBITDA_ratio']\n",
    "    for ratio, higher_better in key_ratios.items():\n",
    "        if pass_ratio(ticker, ratio, higher_better):\n",
    "            passed_ratio_count += 1\n",
    "            liquidity = ratio in liquidity_ratios if not liquidity else True\n",
    "            coverage = ratio in coverage_ratios if not coverage else True\n",
    "            leverage = ratio in leverage_ratios if not leverage else True\n",
    "        else:\n",
    "            return False  # must pass all key ratios\n",
    "    for ratio, higher_better in normal_ratios.items():\n",
    "        if pass_ratio(ticker, ratio, higher_better):\n",
    "            passed_ratio_count += 1\n",
    "            liquidity = ratio in liquidity_ratios if not liquidity else True\n",
    "            coverage = ratio in coverage_ratios if not coverage else True\n",
    "            leverage = ratio in leverage_ratios if not leverage else True\n",
    "    if passed_ratio_count < 6 or not (liquidity and coverage and leverage):  # must pass 6/10 ratios and at least 1 in each category\n",
    "        return False\n",
    "\n",
    "    # F-score\n",
    "    f_score = F_score(ticker, latest=True, period=-1)\n",
    "    if f_score is not None and f_score < 6:  # F score need to be >= 6 to pass, allow BOD\n",
    "        return False\n",
    "    return True"
   ],
   "metadata": {
    "collapsed": false
   }
  },
  {
   "cell_type": "code",
   "execution_count": 8,
   "outputs": [],
   "source": [
    "%%capture cap --no-stderr  # to disable output\n",
    "passed_stocks = [ticker for ticker in all_tickers if screen_stock(ticker)]"
   ],
   "metadata": {
    "collapsed": false
   }
  },
  {
   "cell_type": "code",
   "execution_count": 10,
   "outputs": [
    {
     "data": {
      "text/plain": "['000333.SZ',\n '000858.SZ',\n '0384.HK',\n '0914.HK',\n '300760.SZ',\n '600007.SS',\n '600519.SS',\n 'ABT',\n 'AFL',\n 'ALL',\n 'AMD',\n 'AMZN',\n 'ARCB',\n 'ATD.TO',\n 'BABA',\n 'BBSE3.SA',\n 'BHP.L',\n 'BLK',\n 'CASY',\n 'CIPLA.BO',\n 'CJT.TO',\n 'CLIG.L',\n 'COST',\n 'CTSH',\n 'CTVA',\n 'CVX',\n 'DJCO',\n 'DRREDDY.BO',\n 'ECLERX.BO',\n 'ELET3.SA',\n 'ENGH.TO',\n 'FCN',\n 'FCX',\n 'FFH.TO',\n 'FFHL',\n 'FIZZ',\n 'FTNT',\n 'GOOG',\n 'GRMN',\n 'GWO.TO',\n 'HCLTECH.BO',\n 'HDFCBANK.BO',\n 'HSBA.L',\n 'HTLD',\n 'ICICIBANK.BO',\n 'INFY.BO',\n 'ITC.BO',\n 'JJSF',\n 'JPM',\n 'LLOY.L',\n 'LMT',\n 'LULU',\n 'MANH',\n 'MET',\n 'META',\n 'MOV',\n 'MSFT',\n 'MTB',\n 'NESTLEIND.BO',\n 'NFLX',\n 'NIITLTD.BO',\n 'NOC',\n 'NTES',\n 'NVS',\n 'ONB',\n 'PFE',\n 'PG',\n 'PNC',\n 'PRU',\n 'RF',\n 'RGLD',\n 'RIO.L',\n 'SBIN.BO',\n 'SDR.L',\n 'SEIC',\n 'SSE.L',\n 'SUNPHARMA.BO',\n 'SWBI',\n 'TCS.BO',\n 'TM',\n 'TR',\n 'TREX',\n 'TROW',\n 'TSLA',\n 'TSN',\n 'TXRH',\n 'UAA',\n 'UGI',\n 'ULTA',\n 'ULTRACEMCO.BO',\n 'UNH',\n 'VALE3.SA',\n 'VEEV',\n 'WDFC',\n 'WMT',\n 'WSM',\n 'WYN.L',\n 'XOM',\n 'ZTO']"
     },
     "execution_count": 10,
     "metadata": {},
     "output_type": "execute_result"
    }
   ],
   "source": [
    "with open('passed.txt', 'w+') as f:\n",
    "    f.write('\\n'.join(passed_stocks))\n",
    "passed_stocks"
   ],
   "metadata": {
    "collapsed": false
   }
  }
 ],
 "metadata": {
  "kernelspec": {
   "display_name": "Python 3",
   "language": "python",
   "name": "python3"
  },
  "language_info": {
   "codemirror_mode": {
    "name": "ipython",
    "version": 2
   },
   "file_extension": ".py",
   "mimetype": "text/x-python",
   "name": "python",
   "nbconvert_exporter": "python",
   "pygments_lexer": "ipython2",
   "version": "2.7.6"
  }
 },
 "nbformat": 4,
 "nbformat_minor": 0
}
