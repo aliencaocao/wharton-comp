{
 "cells": [
  {
   "cell_type": "code",
   "execution_count": 8,
   "metadata": {
    "collapsed": true,
    "pycharm": {
     "name": "#%%\n"
    }
   },
   "outputs": [
    {
     "name": "stdout",
     "output_type": "stream",
     "text": [
      "[*********************100%***********************]  1 of 1 completed\n",
      "[*********************100%***********************]  1 of 1 completed\n",
      "[*********************100%***********************]  1 of 1 completed\n",
      "[*********************100%***********************]  1 of 1 completed\n"
     ]
    }
   ],
   "source": [
    "import yfinance as yf\n",
    "import pandas as pd\n",
    "from datetime import date, timedelta, datetime\n",
    "\n",
    "vix = yf.download('^VIX', start='2010-01-31', end='2022-12-06', interval='1d', prepost=False, threads=True)['Close']\n",
    "nvda = yf.download('NVDA', start='2010-01-31', end='2022-12-06', interval='1d', prepost=False, threads=True)['Close']\n",
    "sp500 = yf.download('^GSPC', start='2010-01-31', end='2022-12-06', interval='1d', prepost=False, threads=True)['Close']\n",
    "sp500 = sp500.resample('1Y').last().pct_change().dropna().mean()\n",
    "nvidia_beta = yf.Ticker('NVDA').info['beta']\n",
    "rf = yf.download('^TNX', start='2010-01-31', end='2022-12-06', interval='1d', prepost=False, threads=True)['Close'] / 100"
   ]
  },
  {
   "cell_type": "code",
   "execution_count": null,
   "outputs": [],
   "source": [
    "# Nvidia earnings are always released after market close, so we take the closing price of that day\n",
    "NVDA_file_dates = [date(2010, 2, 17), date(2011, 2, 16), date(2012, 2, 15), date(2013, 2, 13), date(2014, 2, 12), date(2015, 2, 11), date(2016, 2, 17), date(2017, 2, 9), date(2018, 2, 8), date(2019, 2, 14), date(2020, 2, 13), date(2021, 2, 24), date(2022, 2, 16), date(2022, 12, 5)]\n",
    "NVDA_file_dates = list(map(pd.to_datetime, NVDA_file_dates))"
   ],
   "metadata": {
    "collapsed": false,
    "pycharm": {
     "name": "#%%\n"
    }
   }
  },
  {
   "cell_type": "code",
   "execution_count": null,
   "outputs": [],
   "source": [
    "def yearly_returns_FY(df, FYs):\n",
    "    df = df[df.index.isin(FYs)]\n",
    "    df = df.pct_change()\n",
    "    return df.dropna()\n",
    "\n",
    "def yearly_slice(df, FYs):\n",
    "    df = df[df.index.isin(FYs)]\n",
    "    return df.dropna()\n",
    "\n",
    "def ewma(df, d=0.94):\n",
    "    return df.pct_change().ewm(alpha=1-d, adjust=True).mean()\n",
    "\n",
    "def capm(beta, sp500, rf):\n",
    "    return beta * (sp500 - rf) + rf\n",
    "\n",
    "# Ground truths\n",
    "nvda_yearly_closes = nvda[nvda.index.isin(NVDA_file_dates)]\n",
    "nvda_yearly_returns = yearly_returns_FY(nvda, NVDA_file_dates)\n",
    "vix_yearly_mean = vix.groupby(pd.Grouper(freq='1Y')).mean()\n",
    "\n",
    "# Features\n",
    "nvda_yearly_ewma_returns = yearly_slice(ewma(nvda, d=0.99), NVDA_file_dates) * 252.03  # assuming 1 year 252.03 trading days (on avg), since ewma is daily so return needs to be annualized\n",
    "nvidia_capm = yearly_slice(capm(nvidia_beta, sp500, rf), NVDA_file_dates)"
   ],
   "metadata": {
    "collapsed": false,
    "pycharm": {
     "name": "#%%\n"
    }
   }
  },
  {
   "cell_type": "code",
   "execution_count": null,
   "outputs": [],
   "source": [
    "# Align features, start 2012-02-15\n",
    "# for CAPM and EWMA, value at 2012 feb will predict return from 2012 feb to 2013 feb\n",
    "nvidia_capm = nvidia_capm[2:]\n",
    "nvda_yearly_ewma_returns = nvda_yearly_ewma_returns[2:]\n",
    "\n",
    "# Predicting returns 1 year ahead so yearly_returns should start with return from 2012 feb to 2013 feb, which is the value at 2013 feb\n",
    "nvda_yearly_returns = nvda_yearly_returns[2:]\n",
    "# for dcf and comps, FY 2012 implied price should predict the price on 2013 feb (end of FY 2013), so the implied upside is calculated from 2012 feb.\n",
    "DCF = [10.03, 12.88, 23.93, 27.76, 39.93, 44.23, 65.58, 70.36, 88.41, 110.16, 132.15, 132.15]\n",
    "nvda_yearly_closes = nvda_yearly_closes[2:]\n",
    "DCF_implied_upside = (DCF / nvda_yearly_closes) - 1\n",
    "\n",
    "Comps = [1.901528662, 4.384016227, 4.45896, 3.697478992, 4.707282416, 4.532161687, 19.31687211, 37.84643987, 19.0486, 29.0684466, 53.67537849, 104.2521499, 104.2521499]\n",
    "Comps = Comps[1:]  # align comps\n",
    "Comps_implied_upside = (Comps / nvda_yearly_closes) - 1\n",
    "\n",
    "# Align VIX\n",
    "vix_yearly_mean = vix_yearly_mean[2:]\n",
    "vix_yearly_mean = vix_yearly_mean.append(pd.Series(vix_yearly_mean.iloc[-1], index=[pd.to_datetime('2022-12-31')]))  # duplicate last value\n",
    "assert len(nvidia_capm) == len(nvda_yearly_ewma_returns) == len(DCF) == len(Comps) == len(vix_yearly_mean) == len(nvda_yearly_returns) + 1"
   ],
   "metadata": {
    "collapsed": false,
    "pycharm": {
     "name": "#%%\n"
    }
   }
  },
  {
   "cell_type": "code",
   "execution_count": null,
   "outputs": [],
   "source": [
    "import matplotlib.pyplot as plt\n",
    "nvda_yearly_returns.plot()\n",
    "nvda_yearly_ewma_returns.plot()\n",
    "nvidia_capm.plot()\n",
    "DCF_implied_upside.plot()\n",
    "Comps_implied_upside.plot()\n",
    "plt.legend(['Actual Returns', 'EWMA Returns', 'CAPM', 'DCF', 'Comps'])"
   ],
   "metadata": {
    "collapsed": false,
    "pycharm": {
     "name": "#%%\n"
    }
   }
  },
  {
   "cell_type": "code",
   "execution_count": null,
   "outputs": [],
   "source": [
    "# Preparing dataset for ML\n",
    "features = pd.DataFrame({'EWMA': nvda_yearly_ewma_returns.values, 'CAPM': nvidia_capm.values, 'DCF': DCF_implied_upside.values, 'Comps':  Comps_implied_upside.values, 'VIX': vix_yearly_mean.values}, index=nvda_yearly_ewma_returns.index)\n",
    "pred_inputs = features[-1:]  # data at 2022 dec, use to predict return of nvidia in 2023 feb\n",
    "features = features[:-1]  # remove last row as it is used for prediction only (no ground truth for this)\n",
    "target = nvda_yearly_returns"
   ],
   "metadata": {
    "collapsed": false,
    "pycharm": {
     "name": "#%%\n"
    }
   }
  },
  {
   "cell_type": "code",
   "execution_count": null,
   "outputs": [],
   "source": [
    "# ML\n",
    "import tensorflow as tf\n",
    "from tensorflow.keras.layers import *\n",
    "from tensorflow.keras import Model\n",
    "from tensorflow.keras.callbacks import LearningRateScheduler, EarlyStopping, ReduceLROnPlateau\n",
    "from tensorflow.keras.optimizers.schedules import *\n",
    "from tensorflow.keras.models.experimental import SharpnessAwareMinimization\n",
    "from tensorflow.keras.utils import plot_model\n",
    "import gc"
   ],
   "metadata": {
    "collapsed": false,
    "pycharm": {
     "name": "#%%\n"
    }
   }
  },
  {
   "cell_type": "code",
   "execution_count": null,
   "outputs": [],
   "source": [
    "tf.keras.backend.clear_session()  # reset model and layer names\n",
    "xIn = Input(shape=(5,))\n",
    "x = Dense(64, activation='swish')(xIn)\n",
    "x = LayerNormalization()(x)\n",
    "reg_x = Dense(4, name='regression_layer', activation='linear')(xIn[:, :4])\n",
    "reg_x = LayerNormalization()(reg_x)\n",
    "x = Concatenate()([reg_x, x])\n",
    "x = Dense(64, activation='swish')(x)\n",
    "x = LayerNormalization()(x)\n",
    "xOut = Dense(1)(x)\n",
    "\n",
    "model = Model(inputs=xIn, outputs=xOut)\n",
    "model.summary()\n",
    "plot_model(model, show_shapes=True, show_layer_names=True, to_file='model.png')\n",
    "model = SharpnessAwareMinimization(model)  # this give higher loss but better generalization but for the sake of the competition we should go for lower loss\n",
    "opt = tf.keras.optimizers.Adam(learning_rate=1e-3)\n",
    "model.compile(loss='mse', optimizer=opt, metrics=[tf.keras.metrics.RootMeanSquaredError()])"
   ],
   "metadata": {
    "collapsed": false,
    "pycharm": {
     "name": "#%%\n"
    }
   }
  },
  {
   "cell_type": "code",
   "execution_count": null,
   "outputs": [],
   "source": [
    "epoch = 100000\n",
    "callbacks = [\n",
    "    LearningRateScheduler(CosineDecay(1e-3, epoch)),  # using epoch=step here as batchsize=sample size\n",
    "    EarlyStopping(monitor='loss', patience=3000, restore_best_weights=True),\n",
    "    ReduceLROnPlateau(monitor='loss', factor=0.5, patience=1000, min_lr=1e-7)\n",
    "]\n",
    "hist = model.fit(features, target, epochs=epoch, batch_size=len(target), verbose=0, callbacks=callbacks, use_multiprocessing=True, shuffle=True)\n",
    "print(hist.epoch[-1], min(hist.history['root_mean_squared_error']))  # show final epoch no and  lowest rmse\n",
    "gc.collect()"
   ],
   "metadata": {
    "collapsed": false,
    "pycharm": {
     "name": "#%%\n"
    }
   }
  },
  {
   "cell_type": "code",
   "execution_count": null,
   "outputs": [],
   "source": [
    "# wtih regression branch 64 64: 10574 9.388914179453423e-08\n",
    "# wtih regression branch 64 64 no weight decay: 13867 5.595381225020901e-08\n",
    "# wtih regression branch 64 64 no weight decay layer norm : 10938 4.544243381587876e-08\n",
    "# NEW DATA wtih regression branch 64 64 no weight decay layer norm : 13774 5.8923426138335344e-08\n",
    "# Above all with cosine decay\n",
    "\n",
    "# wtih regression branch 64 64 no weight decay layer norm, cosine decay restarts: 11078 6.861009893555092e-08\n",
    "# wtih regression branch 64 64 no weight decay layer norm, ExponentialDecay rate=0.96: 10707 7.670841739582102e-08\n",
    "# wtih regression branch 64 64 no weight decay layer norm, InverseTimeDecay rate=0.96: 5493 4.297550185583532e-05\n",
    "# wtih regression branch 64 64 no weight decay layer norm, PolynomialDecay: 9599 5.1619135632563484e-08 (patience=5000, reducelr=2000: 18073 4.664801167564292e-08)\n",
    "\n",
    "# wtih regression branch 64 128 no weight decay: 13184 6.197880253466792e-08\n",
    "# wtih regression branch 32 64: 12128 6.339563896062828e-08\n",
    "# without regression branch 32 64: 18573 1.3236056872756308e-07\n",
    "# without regression branch 64 64: 11513 2.802448477723374e-07"
   ],
   "metadata": {
    "collapsed": false,
    "pycharm": {
     "name": "#%%\n"
    }
   }
  },
  {
   "cell_type": "code",
   "execution_count": null,
   "outputs": [],
   "source": [
    "model.save('SAM 19906 0.0003908690414391458')"
   ],
   "metadata": {
    "collapsed": false,
    "pycharm": {
     "name": "#%%\n"
    }
   }
  },
  {
   "cell_type": "code",
   "execution_count": null,
   "outputs": [],
   "source": [
    "plt.plot(hist.history['root_mean_squared_error'])"
   ],
   "metadata": {
    "collapsed": false,
    "pycharm": {
     "name": "#%%\n"
    }
   }
  },
  {
   "cell_type": "code",
   "execution_count": null,
   "outputs": [],
   "source": [
    "# Not using\n",
    "import autokeras as ak\n",
    "import keras_tuner as kt\n",
    "reg = ak.StructuredDataRegressor(column_types={feat: 'numerical' for feat in features.columns}, overwrite=True, max_trials=100, loss=\"mean_squared_error\", metrics=[tf.keras.metrics.RootMeanSquaredError()], objective=kt.Objective(\"root_mean_squared_error\", direction='min'))\n",
    "hist = reg.fit(features, target, epochs=10000, batch_size=len(target)//2, verbose=0, use_multiprocessing=True, shuffle=True, validation_split=0.0000000001)\n",
    "model = reg.export_model()\n",
    "model.summary()"
   ],
   "metadata": {
    "collapsed": false,
    "pycharm": {
     "name": "#%%\n"
    }
   }
  },
  {
   "cell_type": "code",
   "execution_count": null,
   "outputs": [],
   "source": [
    "model = tf.keras.models.load_model('new data 13774 5.8923426138335344e-08')\n",
    "model.summary()"
   ],
   "metadata": {
    "collapsed": false,
    "pycharm": {
     "name": "#%%\n"
    }
   }
  },
  {
   "cell_type": "code",
   "execution_count": null,
   "outputs": [],
   "source": [
    "print(0.0003908690414391458*100, '%', sep='')  # RMSE on returns %\n",
    "# Overridding prediction inputs\n",
    "# NVDA_file_dates = [date(2010, 2, 17), date(2011, 2, 16), date(2012, 2, 15), date(2013, 2, 13), date(2014, 2, 12), date(2015, 2, 11), date(2016, 2, 17), date(2017, 2, 9), date(2018, 2, 8), date(2019, 2, 14), date(2020, 2, 13), date(2021, 2, 24), date(2022, 2, 16), date(2022, 12, 5)]\n",
    "# NVDA_file_dates = list(map(pd.to_datetime, NVDA_file_dates))\n",
    "# nvda_yearly_ewma_returns = yearly_slice(ewma(nvda, d=0.99), NVDA_file_dates) * 252.03  # assuming 1 year 252.03 trading days (on avg), since ewma is daily so return needs to be annualized\n",
    "# pred_inputs['EWMA'] = nvda_yearly_ewma_returns[-1]  # override EWMA to the value at 23 Nov 2022\n",
    "# pred_inputs['CAPM'] = 0.16478\n",
    "# pred_inputs['DCF'] = -0.22877\n",
    "# pred_inputs['Comps'] = -0.29484\n",
    "pred_inputs = features[-1:]\n",
    "pred_inputs_today = pred_inputs.copy()\n",
    "model.predict(pred_inputs)"
   ],
   "metadata": {
    "collapsed": false,
    "pycharm": {
     "name": "#%%\n"
    }
   }
  },
  {
   "cell_type": "code",
   "execution_count": null,
   "outputs": [],
   "source": [
    "hist_preds = model.predict(features)\n",
    "hist_preds = pd.Series(hist_preds.flatten(), index=target.index)\n",
    "plt.plot(hist_preds)\n",
    "plt.plot(target)\n",
    "plt.legend(['Predicted', 'Actual'])"
   ],
   "metadata": {
    "collapsed": false,
    "pycharm": {
     "name": "#%%\n"
    }
   }
  },
  {
   "cell_type": "code",
   "execution_count": null,
   "outputs": [],
   "source": [
    "hist_preds"
   ],
   "metadata": {
    "collapsed": false,
    "pycharm": {
     "name": "#%%\n"
    }
   }
  },
  {
   "cell_type": "code",
   "execution_count": null,
   "outputs": [],
   "source": [
    "# Plotting relationships\n",
    "# pred_inputs['EWMA'] = 0.19366\n",
    "# pred_inputs['CAPM'] = 0.16478\n",
    "# pred_inputs['DCF'] = -0.22877\n",
    "# pred_inputs['Comps'] = -0.29484\n",
    "# pred_inputs['VIX'] = 25.94792\n",
    "pred = model.predict(pred_inputs)[0][0]"
   ],
   "metadata": {
    "collapsed": false,
    "pycharm": {
     "name": "#%%\n"
    }
   }
  },
  {
   "cell_type": "code",
   "execution_count": 76,
   "outputs": [
    {
     "data": {
      "text/plain": "[<matplotlib.lines.Line2D at 0x26f71e84be0>]"
     },
     "execution_count": 76,
     "metadata": {},
     "output_type": "execute_result"
    },
    {
     "data": {
      "text/plain": "<Figure size 640x480 with 1 Axes>",
      "image/png": "[encoded data removed]"
     },
     "metadata": {},
     "output_type": "display_data"
    }
   ],
   "source": [
    "preds = []\n",
    "# pred_inputs['EWMA'] = 0.19366\n",
    "# pred_inputs['CAPM'] = 0.16478\n",
    "# pred_inputs['DCF'] = -0.22877\n",
    "# pred_inputs['Comps'] = -0.29484\n",
    "# pred_inputs['VIX'] = 25.94792\n",
    "pred_inputs = features[-1:].copy()\n",
    "for VIX in VIX_range:\n",
    "    pred_inputs['VIX'] = VIX\n",
    "    pred = model.predict(pred_inputs, verbose=0)[0][0]\n",
    "    preds.append(pred)\n",
    "plt.xlabel('VIX')\n",
    "plt.ylabel('Predicted')\n",
    "plt.plot(VIX_range, preds)"
   ],
   "metadata": {
    "collapsed": false,
    "pycharm": {
     "name": "#%%\n"
    }
   }
  }
 ],
 "metadata": {
  "kernelspec": {
   "display_name": "Python 3",
   "language": "python",
   "name": "python3"
  },
  "language_info": {
   "codemirror_mode": {
    "name": "ipython",
    "version": 2
   },
   "file_extension": ".py",
   "mimetype": "text/x-python",
   "name": "python",
   "nbconvert_exporter": "python",
   "pygments_lexer": "ipython2",
   "version": "2.7.6"
  }
 },
 "nbformat": 4,
 "nbformat_minor": 0
}