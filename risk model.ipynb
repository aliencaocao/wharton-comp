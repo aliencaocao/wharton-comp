{
 "cells": [
  {
   "cell_type": "code",
   "execution_count": 1,
   "metadata": {
    "collapsed": true,
    "pycharm": {
     "name": "#%%\n"
    }
   },
   "outputs": [],
   "source": [
    "import yfinance\n",
    "import ta\n",
    "import pandas as pd\n",
    "from matplotlib import pyplot as plt\n",
    "import numpy as np\n",
    "# ML\n",
    "import tensorflow as tf\n",
    "from tensorflow.keras.layers import *\n",
    "from tensorflow.keras import Model\n",
    "from tensorflow.keras.callbacks import LearningRateScheduler, EarlyStopping, ReduceLROnPlateau\n",
    "from tensorflow.keras.optimizers.schedules import *\n",
    "from tensorflow.keras.models.experimental import SharpnessAwareMinimization\n",
    "from tensorflow.keras.utils import plot_model\n",
    "import gc"
   ]
  },
  {
   "cell_type": "code",
   "execution_count": 21,
   "outputs": [
    {
     "name": "stdout",
     "output_type": "stream",
     "text": [
      "[*********************100%***********************]  1 of 1 completed\n"
     ]
    },
    {
     "name": "stderr",
     "output_type": "stream",
     "text": [
      "C:\\Program Files\\Python39\\lib\\site-packages\\ta\\trend.py:730: FutureWarning: The behavior of `series[i:j]` with an integer-dtype index is deprecated. In a future version, this will be treated as *label-based* indexing, consistent with e.g. `series[i]` lookups. To retain the old behavior, use `series.iloc[i:j]`. To get the future behavior, use `series.loc[i:j]`.\n",
      "  self._trs[0] = diff_directional_movement.dropna()[\n",
      "C:\\Program Files\\Python39\\lib\\site-packages\\ta\\trend.py:780: RuntimeWarning: invalid value encountered in double_scalars\n",
      "  dip[idx] = 100 * (self._dip[idx] / value)\n",
      "C:\\Program Files\\Python39\\lib\\site-packages\\ta\\trend.py:785: RuntimeWarning: invalid value encountered in double_scalars\n",
      "  din[idx] = 100 * (self._din[idx] / value)\n"
     ]
    }
   ],
   "source": [
    "amzn = yfinance.download('AMZN', period='10y', interval='1d', prepost=True, threads=True).drop('Adj Close', axis=1)\n",
    "amzn = ta.add_all_ta_features(amzn, open=\"Open\", high=\"High\", low=\"Low\", close=\"Close\", volume=\"Volume\", fillna=True)"
   ],
   "metadata": {
    "collapsed": false,
    "pycharm": {
     "name": "#%%\n"
    }
   }
  },
  {
   "cell_type": "code",
   "execution_count": 82,
   "outputs": [],
   "source": [
    "def windowed_dataset(series, window_size, batch_size):\n",
    "    ds = tf.data.Dataset.from_tensor_slices(series)\n",
    "    ds = ds.window(window_size + 1, shift=1, drop_remainder=True)\n",
    "    ds = ds.flat_map(lambda w: w.batch(window_size + 1))\n",
    "    ds = ds.shuffle(len(series))\n",
    "    ds = ds.map(lambda w: (w, int(w[-1][3]/w[0][3] - 1 <= -0.1)))  # 1 is drop more than 10%, 0 is not\n",
    "    return ds.batch(batch_size).prefetch(-1)\n",
    "\n",
    "window_size = 30\n",
    "batch_size = 64\n",
    "amzn_ds = windowed_dataset(amzn, window_size, batch_size)\n",
    "# for x, y in amzn_ds.take(1):\n",
    "#     print(x.shape, y.shape)"
   ],
   "metadata": {
    "collapsed": false,
    "pycharm": {
     "name": "#%%\n"
    }
   }
  },
  {
   "cell_type": "code",
   "execution_count": 83,
   "outputs": [
    {
     "name": "stdout",
     "output_type": "stream",
     "text": [
      "Model: \"model\"\n",
      "__________________________________________________________________________________________________\n",
      " Layer (type)                   Output Shape         Param #     Connected to                     \n",
      "==================================================================================================\n",
      " input_1 (InputLayer)           [(None, 30, 91)]     0           []                               \n",
      "                                                                                                  \n",
      " global_average_pooling1d_1 (Gl  (None, 91)          0           ['input_1[0][0]']                \n",
      " obalAveragePooling1D)                                                                            \n",
      "                                                                                                  \n",
      " bidirectional (Bidirectional)  (None, 30, 64)       31744       ['input_1[0][0]']                \n",
      "                                                                                                  \n",
      " dense (Dense)                  (None, 64)           5888        ['global_average_pooling1d_1[0][0\n",
      "                                                                 ]']                              \n",
      "                                                                                                  \n",
      " layer_normalization (LayerNorm  (None, 30, 64)      128         ['bidirectional[0][0]']          \n",
      " alization)                                                                                       \n",
      "                                                                                                  \n",
      " layer_normalization_2 (LayerNo  (None, 64)          128         ['dense[0][0]']                  \n",
      " rmalization)                                                                                     \n",
      "                                                                                                  \n",
      " bidirectional_1 (Bidirectional  (None, 30, 64)      24832       ['layer_normalization[0][0]']    \n",
      " )                                                                                                \n",
      "                                                                                                  \n",
      " dense_1 (Dense)                (None, 64)           4160        ['layer_normalization_2[0][0]']  \n",
      "                                                                                                  \n",
      " layer_normalization_1 (LayerNo  (None, 30, 64)      128         ['bidirectional_1[0][0]']        \n",
      " rmalization)                                                                                     \n",
      "                                                                                                  \n",
      " layer_normalization_3 (LayerNo  (None, 64)          128         ['dense_1[0][0]']                \n",
      " rmalization)                                                                                     \n",
      "                                                                                                  \n",
      " global_average_pooling1d (Glob  (None, 64)          0           ['layer_normalization_1[0][0]']  \n",
      " alAveragePooling1D)                                                                              \n",
      "                                                                                                  \n",
      " dropout (Dropout)              (None, 64)           0           ['layer_normalization_3[0][0]']  \n",
      "                                                                                                  \n",
      " concatenate (Concatenate)      (None, 128)          0           ['global_average_pooling1d[0][0]'\n",
      "                                                                 , 'dropout[0][0]']               \n",
      "                                                                                                  \n",
      " dense_2 (Dense)                (None, 64)           8256        ['concatenate[0][0]']            \n",
      "                                                                                                  \n",
      " layer_normalization_4 (LayerNo  (None, 64)          128         ['dense_2[0][0]']                \n",
      " rmalization)                                                                                     \n",
      "                                                                                                  \n",
      " dense_3 (Dense)                (None, 1)            65          ['layer_normalization_4[0][0]']  \n",
      "                                                                                                  \n",
      "==================================================================================================\n",
      "Total params: 75,585\n",
      "Trainable params: 75,585\n",
      "Non-trainable params: 0\n",
      "__________________________________________________________________________________________________\n"
     ]
    }
   ],
   "source": [
    "tf.keras.backend.clear_session()\n",
    "xIn = Input(shape=(window_size, len(amzn.columns)))\n",
    "x = Bidirectional(LSTM(32, return_sequences=True))(xIn)\n",
    "x = LayerNormalization()(x)\n",
    "x = Bidirectional(LSTM(32, return_sequences=True))(x)\n",
    "x = LayerNormalization()(x)\n",
    "x = GlobalAvgPool1D()(x)\n",
    "x_d = GlobalAvgPool1D()(xIn)\n",
    "x_d = Dense(64, activation='swish')(x_d)\n",
    "x_d = LayerNormalization()(x_d)\n",
    "x_d = Dense(64, activation='swish')(x_d)\n",
    "x_d = LayerNormalization()(x_d)\n",
    "x_d = Dropout(0.2)(x_d)\n",
    "x_c = Concatenate()([x, x_d])\n",
    "x_c = Dense(64, activation='swish')(x_c)\n",
    "x_c = LayerNormalization()(x_c)\n",
    "xOut = Dense(1, activation='sigmoid')(x_c)\n",
    "\n",
    "model = Model(xIn, xOut)\n",
    "model.summary()\n",
    "plot_model(model, show_shapes=True, to_file='risk_model.png')\n",
    "model = SharpnessAwareMinimization(model)\n",
    "model.compile(loss='binary_crossentropy', optimizer=tf.keras.optimizers.Adam(learning_rate=0.001), metrics=['accuracy'])"
   ],
   "metadata": {
    "collapsed": false,
    "pycharm": {
     "name": "#%%\n"
    }
   }
  },
  {
   "cell_type": "code",
   "execution_count": 84,
   "outputs": [
    {
     "name": "stdout",
     "output_type": "stream",
     "text": [
      "Epoch 1/100\n",
      "39/39 [==============================] - 11s 28ms/step - loss: 0.4035 - accuracy: 0.8834 - lr: 0.0010\n",
      "Epoch 2/100\n",
      "39/39 [==============================] - 3s 66ms/step - loss: 0.2929 - accuracy: 0.9055 - lr: 0.0010\n",
      "Epoch 3/100\n",
      "39/39 [==============================] - 1s 18ms/step - loss: 0.2743 - accuracy: 0.9055 - lr: 0.0010\n",
      "Epoch 4/100\n",
      "39/39 [==============================] - 1s 17ms/step - loss: 0.2657 - accuracy: 0.9067 - lr: 1.0000e-03\n",
      "Epoch 5/100\n",
      "39/39 [==============================] - 1s 18ms/step - loss: 0.2672 - accuracy: 0.9071 - lr: 1.0000e-03\n",
      "Epoch 6/100\n",
      "39/39 [==============================] - 1s 18ms/step - loss: 0.2578 - accuracy: 0.9119 - lr: 1.0000e-03\n",
      "Epoch 7/100\n",
      "39/39 [==============================] - 1s 17ms/step - loss: 0.2521 - accuracy: 0.9140 - lr: 1.0000e-03\n",
      "Epoch 8/100\n",
      "39/39 [==============================] - 1s 18ms/step - loss: 0.2478 - accuracy: 0.9144 - lr: 1.0000e-03\n",
      "Epoch 9/100\n",
      "39/39 [==============================] - 1s 19ms/step - loss: 0.2431 - accuracy: 0.9131 - lr: 1.0000e-03\n",
      "Epoch 10/100\n",
      "39/39 [==============================] - 1s 18ms/step - loss: 0.2406 - accuracy: 0.9140 - lr: 1.0000e-03\n",
      "Epoch 11/100\n",
      "39/39 [==============================] - 1s 18ms/step - loss: 0.2345 - accuracy: 0.9156 - lr: 1.0000e-03\n",
      "Epoch 12/100\n",
      "39/39 [==============================] - 1s 18ms/step - loss: 0.2344 - accuracy: 0.9176 - lr: 1.0000e-03\n",
      "Epoch 13/100\n",
      "39/39 [==============================] - 1s 18ms/step - loss: 0.2259 - accuracy: 0.9180 - lr: 1.0000e-03\n",
      "Epoch 14/100\n",
      "39/39 [==============================] - 1s 18ms/step - loss: 0.2261 - accuracy: 0.9164 - lr: 1.0000e-03\n",
      "Epoch 15/100\n",
      "39/39 [==============================] - 1s 18ms/step - loss: 0.2265 - accuracy: 0.9220 - lr: 1.0000e-03\n",
      "Epoch 16/100\n",
      "39/39 [==============================] - 1s 18ms/step - loss: 0.2234 - accuracy: 0.9152 - lr: 1.0000e-03\n",
      "Epoch 17/100\n",
      "39/39 [==============================] - 1s 19ms/step - loss: 0.2226 - accuracy: 0.9152 - lr: 1.0000e-03\n",
      "Epoch 18/100\n",
      "39/39 [==============================] - 1s 19ms/step - loss: 0.2126 - accuracy: 0.9212 - lr: 1.0000e-03\n",
      "Epoch 19/100\n",
      "39/39 [==============================] - 1s 20ms/step - loss: 0.2100 - accuracy: 0.9248 - lr: 1.0000e-03\n",
      "Epoch 20/100\n",
      "39/39 [==============================] - 1s 20ms/step - loss: 0.2082 - accuracy: 0.9276 - lr: 1.0000e-03\n",
      "Epoch 21/100\n",
      "39/39 [==============================] - 1s 19ms/step - loss: 0.2056 - accuracy: 0.9272 - lr: 1.0000e-03\n",
      "Epoch 22/100\n",
      "39/39 [==============================] - 1s 19ms/step - loss: 0.1947 - accuracy: 0.9320 - lr: 1.0000e-03\n",
      "Epoch 23/100\n",
      "39/39 [==============================] - 1s 18ms/step - loss: 0.2067 - accuracy: 0.9296 - lr: 1.0000e-03\n",
      "Epoch 24/100\n",
      "39/39 [==============================] - 1s 19ms/step - loss: 0.2024 - accuracy: 0.9292 - lr: 1.0000e-03\n",
      "Epoch 25/100\n",
      "39/39 [==============================] - 1s 20ms/step - loss: 0.1988 - accuracy: 0.9300 - lr: 1.0000e-03\n",
      "Epoch 26/100\n",
      "39/39 [==============================] - 1s 18ms/step - loss: 0.1862 - accuracy: 0.9401 - lr: 1.0000e-03\n",
      "Epoch 27/100\n",
      "39/39 [==============================] - 1s 19ms/step - loss: 0.1828 - accuracy: 0.9413 - lr: 1.0000e-03\n",
      "Epoch 28/100\n",
      "39/39 [==============================] - 1s 19ms/step - loss: 0.1767 - accuracy: 0.9453 - lr: 1.0000e-03\n",
      "Epoch 29/100\n",
      "39/39 [==============================] - 1s 17ms/step - loss: 0.1763 - accuracy: 0.9461 - lr: 9.9999e-04\n",
      "Epoch 30/100\n",
      "39/39 [==============================] - 1s 19ms/step - loss: 0.1702 - accuracy: 0.9485 - lr: 9.9999e-04\n",
      "Epoch 31/100\n",
      "39/39 [==============================] - 1s 17ms/step - loss: 0.1708 - accuracy: 0.9501 - lr: 9.9999e-04\n",
      "Epoch 32/100\n",
      "39/39 [==============================] - 1s 19ms/step - loss: 0.1668 - accuracy: 0.9497 - lr: 9.9999e-04\n",
      "Epoch 33/100\n",
      "39/39 [==============================] - 1s 18ms/step - loss: 0.1595 - accuracy: 0.9534 - lr: 9.9999e-04\n",
      "Epoch 34/100\n",
      "39/39 [==============================] - 1s 18ms/step - loss: 0.1713 - accuracy: 0.9530 - lr: 9.9999e-04\n",
      "Epoch 35/100\n",
      "39/39 [==============================] - 1s 19ms/step - loss: 0.1730 - accuracy: 0.9509 - lr: 9.9999e-04\n",
      "Epoch 36/100\n",
      "39/39 [==============================] - 1s 17ms/step - loss: 0.1635 - accuracy: 0.9534 - lr: 9.9999e-04\n",
      "Epoch 37/100\n",
      "39/39 [==============================] - 1s 21ms/step - loss: 0.1563 - accuracy: 0.9566 - lr: 9.9999e-04\n",
      "Epoch 38/100\n",
      "39/39 [==============================] - 1s 21ms/step - loss: 0.1653 - accuracy: 0.9517 - lr: 9.9999e-04\n",
      "Epoch 39/100\n",
      "39/39 [==============================] - 1s 20ms/step - loss: 0.1579 - accuracy: 0.9558 - lr: 9.9999e-04\n",
      "Epoch 40/100\n",
      "39/39 [==============================] - 1s 20ms/step - loss: 0.1531 - accuracy: 0.9578 - lr: 9.9999e-04\n",
      "Epoch 41/100\n",
      "39/39 [==============================] - 1s 19ms/step - loss: 0.1514 - accuracy: 0.9570 - lr: 9.9999e-04\n",
      "Epoch 42/100\n",
      "39/39 [==============================] - 1s 18ms/step - loss: 0.1455 - accuracy: 0.9578 - lr: 9.9999e-04\n",
      "Epoch 43/100\n",
      "39/39 [==============================] - 1s 19ms/step - loss: 0.1409 - accuracy: 0.9598 - lr: 9.9999e-04\n",
      "Epoch 44/100\n",
      "39/39 [==============================] - 1s 18ms/step - loss: 0.1414 - accuracy: 0.9578 - lr: 9.9999e-04\n",
      "Epoch 45/100\n",
      "39/39 [==============================] - 1s 19ms/step - loss: 0.1392 - accuracy: 0.9590 - lr: 9.9999e-04\n",
      "Epoch 46/100\n",
      "39/39 [==============================] - 1s 19ms/step - loss: 0.1346 - accuracy: 0.9582 - lr: 9.9999e-04\n",
      "Epoch 47/100\n",
      "39/39 [==============================] - 1s 19ms/step - loss: 0.1341 - accuracy: 0.9570 - lr: 9.9999e-04\n",
      "Epoch 48/100\n",
      "39/39 [==============================] - 1s 18ms/step - loss: 0.1379 - accuracy: 0.9566 - lr: 9.9999e-04\n",
      "Epoch 49/100\n",
      "39/39 [==============================] - 1s 18ms/step - loss: 0.1365 - accuracy: 0.9594 - lr: 9.9998e-04\n",
      "Epoch 50/100\n",
      "39/39 [==============================] - 1s 18ms/step - loss: 0.1382 - accuracy: 0.9566 - lr: 9.9998e-04\n",
      "Epoch 51/100\n",
      "39/39 [==============================] - 1s 19ms/step - loss: 0.1357 - accuracy: 0.9594 - lr: 9.9998e-04\n",
      "Epoch 52/100\n",
      "39/39 [==============================] - 1s 19ms/step - loss: 0.1360 - accuracy: 0.9594 - lr: 9.9998e-04\n",
      "Epoch 53/100\n",
      "39/39 [==============================] - 1s 19ms/step - loss: 0.1377 - accuracy: 0.9586 - lr: 9.9998e-04\n",
      "Epoch 54/100\n",
      "39/39 [==============================] - 1s 18ms/step - loss: 0.1337 - accuracy: 0.9586 - lr: 9.9998e-04\n",
      "Epoch 55/100\n",
      "39/39 [==============================] - 1s 19ms/step - loss: 0.1330 - accuracy: 0.9582 - lr: 9.9998e-04\n",
      "Epoch 56/100\n",
      "39/39 [==============================] - 1s 18ms/step - loss: 0.1288 - accuracy: 0.9594 - lr: 9.9998e-04\n",
      "Epoch 57/100\n",
      "39/39 [==============================] - 1s 18ms/step - loss: 0.1277 - accuracy: 0.9614 - lr: 9.9998e-04\n",
      "Epoch 58/100\n",
      "39/39 [==============================] - 1s 18ms/step - loss: 0.1241 - accuracy: 0.9610 - lr: 9.9998e-04\n",
      "Epoch 59/100\n",
      "39/39 [==============================] - 1s 18ms/step - loss: 0.1239 - accuracy: 0.9610 - lr: 9.9998e-04\n",
      "Epoch 60/100\n",
      "39/39 [==============================] - 1s 18ms/step - loss: 0.1250 - accuracy: 0.9602 - lr: 9.9998e-04\n",
      "Epoch 61/100\n",
      "39/39 [==============================] - 1s 18ms/step - loss: 0.1237 - accuracy: 0.9598 - lr: 9.9998e-04\n",
      "Epoch 62/100\n",
      "39/39 [==============================] - 1s 18ms/step - loss: 0.1209 - accuracy: 0.9614 - lr: 9.9998e-04\n",
      "Epoch 63/100\n",
      "39/39 [==============================] - 1s 18ms/step - loss: 0.1212 - accuracy: 0.9622 - lr: 9.9997e-04\n",
      "Epoch 64/100\n",
      "39/39 [==============================] - 1s 18ms/step - loss: 0.1183 - accuracy: 0.9626 - lr: 9.9997e-04\n",
      "Epoch 65/100\n",
      "39/39 [==============================] - 1s 18ms/step - loss: 0.1181 - accuracy: 0.9630 - lr: 9.9997e-04\n",
      "Epoch 66/100\n",
      "39/39 [==============================] - 1s 18ms/step - loss: 0.1202 - accuracy: 0.9602 - lr: 9.9997e-04\n",
      "Epoch 67/100\n",
      "39/39 [==============================] - 1s 17ms/step - loss: 0.1194 - accuracy: 0.9618 - lr: 9.9997e-04\n",
      "Epoch 68/100\n",
      "39/39 [==============================] - 1s 18ms/step - loss: 0.1209 - accuracy: 0.9634 - lr: 9.9997e-04\n",
      "Epoch 69/100\n",
      "39/39 [==============================] - 1s 18ms/step - loss: 0.1181 - accuracy: 0.9614 - lr: 9.9997e-04\n",
      "Epoch 70/100\n",
      "39/39 [==============================] - 1s 17ms/step - loss: 0.1226 - accuracy: 0.9622 - lr: 9.9997e-04\n",
      "Epoch 71/100\n",
      "39/39 [==============================] - 1s 18ms/step - loss: 0.1205 - accuracy: 0.9610 - lr: 9.9997e-04\n",
      "Epoch 72/100\n",
      "39/39 [==============================] - 1s 18ms/step - loss: 0.1181 - accuracy: 0.9614 - lr: 9.9997e-04\n",
      "Epoch 73/100\n",
      "39/39 [==============================] - 1s 17ms/step - loss: 0.1143 - accuracy: 0.9634 - lr: 9.9997e-04\n",
      "Epoch 74/100\n",
      "39/39 [==============================] - 1s 18ms/step - loss: 0.1145 - accuracy: 0.9634 - lr: 9.9996e-04\n",
      "Epoch 75/100\n",
      "39/39 [==============================] - 1s 18ms/step - loss: 0.1189 - accuracy: 0.9622 - lr: 9.9996e-04\n",
      "Epoch 76/100\n",
      "39/39 [==============================] - 1s 19ms/step - loss: 0.1121 - accuracy: 0.9614 - lr: 9.9996e-04\n",
      "Epoch 77/100\n",
      "39/39 [==============================] - 1s 18ms/step - loss: 0.1126 - accuracy: 0.9622 - lr: 9.9996e-04\n",
      "Epoch 78/100\n",
      "39/39 [==============================] - 1s 18ms/step - loss: 0.1121 - accuracy: 0.9622 - lr: 9.9996e-04\n",
      "Epoch 79/100\n",
      "39/39 [==============================] - 1s 18ms/step - loss: 0.1099 - accuracy: 0.9638 - lr: 9.9996e-04\n",
      "Epoch 80/100\n",
      "39/39 [==============================] - 1s 18ms/step - loss: 0.1114 - accuracy: 0.9634 - lr: 9.9996e-04\n",
      "Epoch 81/100\n",
      "39/39 [==============================] - 1s 18ms/step - loss: 0.1100 - accuracy: 0.9638 - lr: 9.9996e-04\n",
      "Epoch 82/100\n",
      "39/39 [==============================] - 1s 17ms/step - loss: 0.1073 - accuracy: 0.9638 - lr: 9.9996e-04\n",
      "Epoch 83/100\n",
      "39/39 [==============================] - 1s 18ms/step - loss: 0.1099 - accuracy: 0.9626 - lr: 9.9995e-04\n",
      "Epoch 84/100\n",
      "39/39 [==============================] - 1s 19ms/step - loss: 0.1114 - accuracy: 0.9634 - lr: 9.9995e-04\n",
      "Epoch 85/100\n",
      "39/39 [==============================] - 1s 18ms/step - loss: 0.1074 - accuracy: 0.9634 - lr: 9.9995e-04\n",
      "Epoch 86/100\n",
      "39/39 [==============================] - 1s 18ms/step - loss: 0.1072 - accuracy: 0.9626 - lr: 9.9995e-04\n",
      "Epoch 87/100\n",
      "39/39 [==============================] - 1s 18ms/step - loss: 0.1062 - accuracy: 0.9646 - lr: 9.9995e-04\n",
      "Epoch 88/100\n",
      "39/39 [==============================] - 1s 18ms/step - loss: 0.1071 - accuracy: 0.9634 - lr: 9.9995e-04\n",
      "Epoch 89/100\n",
      "39/39 [==============================] - 1s 18ms/step - loss: 0.1052 - accuracy: 0.9642 - lr: 9.9995e-04\n",
      "Epoch 90/100\n",
      "39/39 [==============================] - 1s 17ms/step - loss: 0.1037 - accuracy: 0.9638 - lr: 9.9995e-04\n",
      "Epoch 91/100\n",
      "39/39 [==============================] - 1s 17ms/step - loss: 0.1039 - accuracy: 0.9646 - lr: 9.9995e-04\n",
      "Epoch 92/100\n",
      "39/39 [==============================] - 1s 17ms/step - loss: 0.1045 - accuracy: 0.9642 - lr: 9.9994e-04\n",
      "Epoch 93/100\n",
      "39/39 [==============================] - 1s 18ms/step - loss: 0.1028 - accuracy: 0.9658 - lr: 9.9994e-04\n",
      "Epoch 94/100\n",
      "39/39 [==============================] - 1s 18ms/step - loss: 0.1049 - accuracy: 0.9646 - lr: 9.9994e-04\n",
      "Epoch 95/100\n",
      "39/39 [==============================] - 1s 17ms/step - loss: 0.1033 - accuracy: 0.9646 - lr: 9.9994e-04\n",
      "Epoch 96/100\n",
      "39/39 [==============================] - 1s 18ms/step - loss: 0.1028 - accuracy: 0.9646 - lr: 9.9994e-04\n",
      "Epoch 97/100\n",
      "39/39 [==============================] - 1s 17ms/step - loss: 0.1023 - accuracy: 0.9654 - lr: 9.9994e-04\n",
      "Epoch 98/100\n",
      "39/39 [==============================] - 1s 17ms/step - loss: 0.1013 - accuracy: 0.9634 - lr: 9.9994e-04\n",
      "Epoch 99/100\n",
      "39/39 [==============================] - 1s 17ms/step - loss: 0.1001 - accuracy: 0.9658 - lr: 9.9994e-04\n",
      "Epoch 100/100\n",
      "39/39 [==============================] - 1s 17ms/step - loss: 0.1010 - accuracy: 0.9658 - lr: 9.9993e-04\n",
      "99 0.9658222794532776\n"
     ]
    }
   ],
   "source": [
    "epoch = 300\n",
    "callbacks = [\n",
    "    LearningRateScheduler(CosineDecay(1e-3, epoch*batch_size)),\n",
    "    EarlyStopping(monitor='loss', patience=40, restore_best_weights=True),\n",
    "    ReduceLROnPlateau(monitor='loss', factor=0.5, patience=20, min_lr=1e-7)\n",
    "]\n",
    "\n",
    "hist = model.fit(amzn_ds,  batch_size=batch_size, epochs=100, verbose=1, callbacks=callbacks, use_multiprocessing=True)\n",
    "print(hist.epoch[-1], max(hist.history['accuracy']))  # show final epoch no and lowest rmse"
   ],
   "metadata": {
    "collapsed": false,
    "pycharm": {
     "name": "#%%\n"
    }
   }
  },
  {
   "cell_type": "code",
   "execution_count": 85,
   "outputs": [
    {
     "name": "stderr",
     "output_type": "stream",
     "text": [
      "WARNING:absl:Found untraced functions such as lstm_cell_1_layer_call_fn, lstm_cell_1_layer_call_and_return_conditional_losses, lstm_cell_2_layer_call_fn, lstm_cell_2_layer_call_and_return_conditional_losses, lstm_cell_4_layer_call_fn while saving (showing 5 of 8). These functions will not be directly callable after loading.\n"
     ]
    },
    {
     "name": "stdout",
     "output_type": "stream",
     "text": [
      "INFO:tensorflow:Assets written to: amzn risk model 96.58\\assets\n"
     ]
    },
    {
     "name": "stderr",
     "output_type": "stream",
     "text": [
      "INFO:tensorflow:Assets written to: amzn risk model 96.58\\assets\n"
     ]
    }
   ],
   "source": [
    "model.save('amzn risk model 96.58')"
   ],
   "metadata": {
    "collapsed": false,
    "pycharm": {
     "name": "#%%\n"
    }
   }
  }
 ],
 "metadata": {
  "kernelspec": {
   "display_name": "Python 3",
   "language": "python",
   "name": "python3"
  },
  "language_info": {
   "codemirror_mode": {
    "name": "ipython",
    "version": 2
   },
   "file_extension": ".py",
   "mimetype": "text/x-python",
   "name": "python",
   "nbconvert_exporter": "python",
   "pygments_lexer": "ipython2",
   "version": "2.7.6"
  }
 },
 "nbformat": 4,
 "nbformat_minor": 0
}