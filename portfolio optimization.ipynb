{
 "cells": [
  {
   "cell_type": "code",
   "execution_count": 4,
   "metadata": {
    "collapsed": true,
    "pycharm": {
     "name": "#%%\n"
    }
   },
   "outputs": [],
   "source": [
    "import math\n",
    "import numpy as np\n",
    "import pandas as pd\n",
    "import yfinance as yf\n",
    "import riskfolio as rp\n",
    "import warnings\n",
    "import orjson as json\n",
    "warnings.filterwarnings(\"ignore\")"
   ]
  },
  {
   "cell_type": "code",
   "execution_count": null,
   "outputs": [],
   "source": [
    "with open('passed.txt') as f:\n",
    "    tickers = f.read().splitlines()\n",
    "tickers.append('^TNX')  # 10 year treasury yield\n",
    "with open('ticker_capm.json') as f:\n",
    "    ticker_capm = json.loads(f.read())\n",
    "ticker_info = pd.read_csv('yahoo_tickers.csv')\n",
    "MAR = 0.13256  # see calc_r.txt"
   ],
   "metadata": {
    "collapsed": false,
    "pycharm": {
     "name": "#%%\n"
    }
   }
  },
  {
   "cell_type": "code",
   "execution_count": null,
   "outputs": [],
   "source": [
    "def download_data_and_calc_returns(tickers, period='5y', interval='1d', prepost=False):\n",
    "    if isinstance(tickers, list):\n",
    "        data = yf.download(tickers, start='2017-11-30', end='2022-11-30', interval=interval, prepost=prepost, threads=True)\n",
    "        data = data.loc[:,('Adj Close', slice(None))]  # get adjusted close only\n",
    "        data.columns = tickers\n",
    "        data['WYN.L']['2022-06-14'] = 628.0\n",
    "        data = data[tickers].pct_change().dropna()\n",
    "        return data\n",
    "    else:\n",
    "        data = yf.download(tickers, period=period, interval=interval, prepost=prepost, threads=True)\n",
    "        data = data.loc[:, 'Adj Close']\n",
    "        data = data.pct_change().dropna()\n",
    "        return data\n",
    "\n",
    "returns = download_data_and_calc_returns(tickers)\n",
    "returns.index = returns.index.map(lambda a: pd.to_datetime(a).date())  # remove timezone awareness by converting to dates only\n",
    "returns = returns.sum(level=0)  # merge 2 days into 1 since different market has diff closing time"
   ],
   "metadata": {
    "collapsed": false,
    "pycharm": {
     "name": "#%%\n"
    }
   }
  },
  {
   "cell_type": "code",
   "execution_count": null,
   "outputs": [],
   "source": [
    "nasdaq_returns = download_data_and_calc_returns('^GSPC', period='10y')\n",
    "nasdaq_slpm = rp.RiskFunctions.LPM(nasdaq_returns, MAR=MAR/252, p=2)\n",
    "nasdaq_slpm"
   ],
   "metadata": {
    "collapsed": false,
    "pycharm": {
     "name": "#%%\n"
    }
   }
  },
  {
   "cell_type": "code",
   "execution_count": null,
   "outputs": [],
   "source": [
    "port = rp.Portfolio(returns=returns, sht=False, lowerret=MAR/252, upperslpm=nasdaq_slpm)"
   ],
   "metadata": {
    "collapsed": false,
    "pycharm": {
     "name": "#%%\n"
    }
   }
  },
  {
   "cell_type": "code",
   "execution_count": null,
   "outputs": [],
   "source": [
    "method_to_estimate_expected_return = 'ewma1'  # useless, will be overridden with custom returns\n",
    "method_to_estimate_covariance = 'hist'\n",
    "port.assets_stats(method_mu=method_to_estimate_expected_return, method_cov=method_to_estimate_covariance, d=0.99)  # lower d means place more emphasis on recent performance, 0 <= d < 1"
   ],
   "metadata": {
    "collapsed": false,
    "pycharm": {
     "name": "#%%\n"
    }
   }
  },
  {
   "cell_type": "code",
   "execution_count": null,
   "outputs": [],
   "source": [
    "port.mu['^TNX'] = 0.04/252  # set risk free asset"
   ],
   "metadata": {
    "collapsed": false,
    "pycharm": {
     "name": "#%%\n"
    }
   }
  },
  {
   "cell_type": "code",
   "execution_count": null,
   "outputs": [],
   "source": [
    "def custom_returns(col):\n",
    "    if col.name != '^TNX':\n",
    "        return pd.Series([ticker_capm[col.name] / (252*100)])\n",
    "    else:\n",
    "        return col\n",
    "port.mu = port.mu.apply(custom_returns, axis=0)\n",
    "port.mu*252"
   ],
   "metadata": {
    "collapsed": false,
    "pycharm": {
     "name": "#%%\n"
    }
   }
  },
  {
   "cell_type": "code",
   "execution_count": null,
   "outputs": [],
   "source": [
    "assets = port.mu.columns.values.tolist()\n",
    "\n",
    "model = 'Classic'  # based on history\n",
    "risk_measure = 'SLPM'  # Sortino Ratio\n",
    "obj = 'MinRisk'\n",
    "risk_free_rate = MAR/252  # MAR converted to daily\n",
    "\n",
    "#w = port.optimization(model=model, rm=risk_measure, obj=obj, rf=risk_free_rate)\n",
    "with open('pp.txt') as f:\n",
    "    weights = f.read().splitlines()\n",
    "weights = list(map(lambda x: float(x), weights))\n",
    "weights = [w*1/np.sum(weights) for w in weights]\n",
    "base = {'tick': assets, 'weights': weights}\n",
    "w = pd.DataFrame(base).set_index('tick')\n",
    "ax = rp.plot_pie(w=w, title=f'{risk_measure} {obj}', others=0.01, nrow=len(port.assetslist), cmap=\"tab20\", height=6, width=10, ax=None)"
   ],
   "metadata": {
    "collapsed": false,
    "pycharm": {
     "name": "#%%\n"
    }
   }
  },
  {
   "cell_type": "markdown",
   "source": [
    "# Marked as markdown as code below are useless\n",
    "multiplier = [1 for i in range(63)]"
   ],
   "metadata": {
    "collapsed": false,
    "pycharm": {
     "name": "#%% md\n"
    }
   }
  },
  {
   "cell_type": "markdown",
   "source": [
    "#multiplier[port.assetslist.index('CIPLA.BO')] = 0.6\n",
    "#multiplier[port.assetslist.index('ECLERX.BO')] = 0.5\n",
    "#multiplier[port.assetslist.index('INFY.BO')] = 0.5\n",
    "multiplier[port.assetslist.index('NVDA')] = 1.25\n",
    "multiplier[port.assetslist.index('JPM')] = 1.25\n",
    "#multiplier[port.assetslist.index('WMT')] = 0.8\n",
    "#multiplier[port.assetslist.index('MET')] = 0.7\n",
    "#multiplier[port.assetslist.index('HSBA.L')] = 0.9\n",
    "#multiplier[port.assetslist.index('BBSE3.SA')] = 0.5\n",
    "\n",
    "\n",
    "#multiplier[port.assetslist.index('AMZN')] = 1.1\n",
    "multiplier[port.assetslist.index('TR')] = 0.7\n",
    "multiplier[port.assetslist.index('NTES')] = 0.5\n",
    "#multiplier[port.assetslist.index('TCS.BO')] = 0.5\n",
    "#multiplier[port.assetslist.index('FFH.TO')] = 0.5\n",
    "#multiplier[port.assetslist.index('SDR.L')] = 0.5\n",
    "#multiplier[port.assetslist.index('LMT')] = 0.5\n",
    "#multiplier[port.assetslist.index('WYN.L')] = 0.5\n",
    "\n",
    "print(multiplier)\n",
    "port.mu = np.multiply(port.mu, multiplier)\n",
    "port.mu*252"
   ],
   "metadata": {
    "collapsed": false,
    "pycharm": {
     "name": "#%% md\n"
    }
   }
  },
  {
   "cell_type": "code",
   "execution_count": null,
   "outputs": [],
   "source": [
    "asset_classes = {'Assets': assets,\n",
    "                 'Industry': [ticker_info.loc[ticker_info['Ticker'] == ticker]['GICS Sector'].to_list()[0] for ticker in assets[:-1]]+['Treasury'],\n",
    "                 'Country': [ticker_info.loc[ticker_info['Ticker'] == ticker]['Country'].to_list()[0] for ticker in assets[:-1]]+['NA'],\n",
    "                 'n': ['Yes' if asset == 'NVDA' else 'No' for asset in assets],\n",
    "                 'c': ['Yes' if asset == 'CIPLA.BO' else 'No' for asset in assets]}\n",
    "asset_classes = pd.DataFrame(asset_classes)\n",
    "asset_classes = asset_classes.sort_values(by=['Assets'])\n",
    "asset_classes"
   ],
   "metadata": {
    "collapsed": false,
    "pycharm": {
     "name": "#%%\n"
    }
   }
  },
  {
   "cell_type": "code",
   "execution_count": null,
   "outputs": [],
   "source": [
    "views = pd.read_csv('views.csv')\n",
    "views.fillna('', inplace=True)\n",
    "views"
   ],
   "metadata": {
    "collapsed": false,
    "pycharm": {
     "name": "#%%\n"
    }
   }
  },
  {
   "cell_type": "code",
   "execution_count": null,
   "outputs": [],
   "source": [
    "P, Q = rp.assets_views(views, asset_classes)\n",
    "pd.DataFrame(P.T)"
   ],
   "metadata": {
    "collapsed": false,
    "pycharm": {
     "name": "#%%\n"
    }
   }
  },
  {
   "cell_type": "code",
   "execution_count": null,
   "outputs": [],
   "source": [
    "port.blacklitterman_stats(P, Q/252, rf=risk_free_rate, w=w, delta=None, eq=True)\n",
    "model='BL'\n",
    "rm = 'SLPM'\n",
    "obj = 'MinRisk'\n",
    "hist = True\n",
    "w_bl = port.optimization(model=model, rm=rm, obj=obj, rf=risk_free_rate, hist=hist)\n",
    "\n",
    "def swap_rows(df, i1, i2):\n",
    "    a, b = df.loc[i1].copy(), df.loc[i2].copy()\n",
    "    df.loc[i1], df.loc[i2] = b, a\n",
    "    return df\n",
    "swap_rows(w_bl, 'WYN.L','NVDA')\n",
    "swap_rows(w_bl, 'CIPLA.BO','NVDA')\n",
    "swap_rows(w_bl, 'JPM','FCN')\n",
    "swap_rows(w_bl, 'WYN.L','WMT')\n",
    "swap_rows(w_bl, 'TR','FCN')\n",
    "swap_rows(w_bl, '600519.SS','COST')\n",
    "w_bl.T"
   ],
   "metadata": {
    "collapsed": false,
    "pycharm": {
     "name": "#%%\n"
    }
   }
  },
  {
   "cell_type": "code",
   "execution_count": null,
   "outputs": [],
   "source": [
    "ax = rp.plot_pie(w=w_bl, title=f'{risk_measure} {obj}', others=0.0001, nrow=len(port.assetslist), cmap=\"tab20\", height=6, width=10, ax=None)"
   ],
   "metadata": {
    "collapsed": false,
    "pycharm": {
     "name": "#%%\n"
    }
   }
  },
  {
   "cell_type": "code",
   "execution_count": null,
   "outputs": [],
   "source": [
    "returns.index = returns.index.map(lambda a: pd.to_datetime(a).date())  # remove timezone awareness by converting to dates only\n",
    "rp.Reports.excel_report(returns, w_bl, rf=risk_free_rate, alpha=0.05, t_factor=252, ini_days=1, days_per_year=252, name='portfolio_report')\n",
    "rp.Reports.jupyter_report(returns, w_bl, rm=risk_measure, rf=risk_free_rate, alpha=0.05, others=0.00001, nrow=len(port.assetslist), height=6, width=14, t_factor=252, ini_days=1, days_per_year=252, bins=100)"
   ],
   "metadata": {
    "collapsed": false,
    "pycharm": {
     "name": "#%%\n"
    }
   }
  }
 ],
 "metadata": {
  "kernelspec": {
   "display_name": "Python 3",
   "language": "python",
   "name": "python3"
  },
  "language_info": {
   "codemirror_mode": {
    "name": "ipython",
    "version": 2
   },
   "file_extension": ".py",
   "mimetype": "text/x-python",
   "name": "python",
   "nbconvert_exporter": "python",
   "pygments_lexer": "ipython2",
   "version": "2.7.6"
  }
 },
 "nbformat": 4,
 "nbformat_minor": 0
}