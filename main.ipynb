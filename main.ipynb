{
 "cells": [
  {
   "cell_type": "code",
   "execution_count": 1,
   "outputs": [],
   "source": [
    "import numpy as np\n",
    "import pandas as pd\n",
    "import yfinance as yf\n",
    "import riskfolio as rp\n",
    "import warnings\n",
    "warnings.filterwarnings(\"ignore\")"
   ],
   "metadata": {
    "collapsed": false
   }
  },
  {
   "cell_type": "code",
   "execution_count": 2,
   "outputs": [],
   "source": [
    "dows_df = pd.read_html('https://en.wikipedia.org/wiki/Dow_Jones_Industrial_Average')[1]\n",
    "dows_tickers = dows_df.Symbol.tolist()\n",
    "dows_tickers.sort()\n",
    "assert len(dows_tickers) == 30\n",
    "SP500_df = pd.read_html('https://en.wikipedia.org/wiki/List_of_S%26P_500_companies')[0]\n",
    "SP500_tickers = SP500_df.Symbol.tolist()\n",
    "SP500_tickers.remove('BF.B')  # delisted\n",
    "SP500_tickers.remove('BRK.B')  # delisted\n",
    "SP500_tickers.sort()"
   ],
   "metadata": {
    "collapsed": false
   }
  },
  {
   "cell_type": "code",
   "execution_count": 3,
   "outputs": [
    {
     "name": "stdout",
     "output_type": "stream",
     "text": [
      "[*********************100%***********************]  30 of 30 completed\n"
     ]
    }
   ],
   "source": [
    "def download_data_and_calc_returns(tickers, period='5y', interval='1d', prepost=False):\n",
    "    data = yf.download(tickers, period=period, interval=interval, prepost=prepost, threads=True)\n",
    "    data = data.loc[:,('Adj Close', slice(None))]  # get adjusted close only\n",
    "    data.columns = tickers\n",
    "    data = data[tickers].pct_change().dropna()\n",
    "    return data\n",
    "\n",
    "dows_returns = download_data_and_calc_returns(dows_tickers)"
   ],
   "metadata": {
    "collapsed": false
   }
  },
  {
   "cell_type": "code",
   "execution_count": 4,
   "outputs": [
    {
     "data": {
      "text/plain": "                AAPL      AMGN       AXP        BA       CAT       CRM  \\\nDate                                                                     \n2019-03-21  0.036830  0.004029  0.009479 -0.009198  0.007894  0.021038   \n2019-03-22 -0.020708 -0.027047 -0.021105 -0.028253 -0.032000 -0.032644   \n2019-03-25 -0.012091 -0.000589 -0.003837  0.022890  0.012407 -0.003839   \n2019-03-26 -0.010332  0.009004  0.004219 -0.000216  0.003501 -0.009199   \n2019-03-27  0.008994 -0.010357 -0.004749  0.010341 -0.004854 -0.026851   \n\n                CSCO       CVX       DIS       DOW  ...       MRK      MSFT  \\\nDate                                                ...                       \n2019-03-21  0.012768  0.009383 -0.012092 -0.016466  ...  0.010600  0.022975   \n2019-03-22 -0.022247 -0.022009 -0.003957 -0.007758  ... -0.007957 -0.026368   \n2019-03-25 -0.000190 -0.001625 -0.004066  0.011317  ...  0.000729  0.005211   \n2019-03-26  0.009482  0.010090  0.021802 -0.006104  ...  0.006922  0.002125   \n2019-03-27 -0.001691 -0.010795  0.001271  0.025589  ... -0.007598 -0.009668   \n\n                 NKE        PG       TRV       UNH         V        VZ  \\\nDate                                                                     \n2019-03-21  0.015227  0.007570  0.023148  0.006068  0.013333  0.010751   \n2019-03-22 -0.066129 -0.008098  0.003944 -0.019562 -0.017522  0.025219   \n2019-03-25  0.001703  0.002951  0.000371 -0.000931 -0.000261  0.005355   \n2019-03-26  0.012754  0.010396  0.000222 -0.014056  0.014834  0.009155   \n2019-03-27 -0.003478 -0.001165  0.010150 -0.006902 -0.006954  0.004123   \n\n                 WBA       WMT  \nDate                            \n2019-03-21  0.012900  0.004258  \n2019-03-22 -0.018711 -0.007874  \n2019-03-25 -0.011537 -0.001119  \n2019-03-26  0.003729  0.001528  \n2019-03-27  0.005006 -0.011290  \n\n[5 rows x 30 columns]",
      "text/html": "<div>\n<style scoped>\n    .dataframe tbody tr th:only-of-type {\n        vertical-align: middle;\n    }\n\n    .dataframe tbody tr th {\n        vertical-align: top;\n    }\n\n    .dataframe thead th {\n        text-align: right;\n    }\n</style>\n<table border=\"1\" class=\"dataframe\">\n  <thead>\n    <tr style=\"text-align: right;\">\n      <th></th>\n      <th>AAPL</th>\n      <th>AMGN</th>\n      <th>AXP</th>\n      <th>BA</th>\n      <th>CAT</th>\n      <th>CRM</th>\n      <th>CSCO</th>\n      <th>CVX</th>\n      <th>DIS</th>\n      <th>DOW</th>\n      <th>...</th>\n      <th>MRK</th>\n      <th>MSFT</th>\n      <th>NKE</th>\n      <th>PG</th>\n      <th>TRV</th>\n      <th>UNH</th>\n      <th>V</th>\n      <th>VZ</th>\n      <th>WBA</th>\n      <th>WMT</th>\n    </tr>\n    <tr>\n      <th>Date</th>\n      <th></th>\n      <th></th>\n      <th></th>\n      <th></th>\n      <th></th>\n      <th></th>\n      <th></th>\n      <th></th>\n      <th></th>\n      <th></th>\n      <th></th>\n      <th></th>\n      <th></th>\n      <th></th>\n      <th></th>\n      <th></th>\n      <th></th>\n      <th></th>\n      <th></th>\n      <th></th>\n      <th></th>\n    </tr>\n  </thead>\n  <tbody>\n    <tr>\n      <th>2019-03-21</th>\n      <td>0.036830</td>\n      <td>0.004029</td>\n      <td>0.009479</td>\n      <td>-0.009198</td>\n      <td>0.007894</td>\n      <td>0.021038</td>\n      <td>0.012768</td>\n      <td>0.009383</td>\n      <td>-0.012092</td>\n      <td>-0.016466</td>\n      <td>...</td>\n      <td>0.010600</td>\n      <td>0.022975</td>\n      <td>0.015227</td>\n      <td>0.007570</td>\n      <td>0.023148</td>\n      <td>0.006068</td>\n      <td>0.013333</td>\n      <td>0.010751</td>\n      <td>0.012900</td>\n      <td>0.004258</td>\n    </tr>\n    <tr>\n      <th>2019-03-22</th>\n      <td>-0.020708</td>\n      <td>-0.027047</td>\n      <td>-0.021105</td>\n      <td>-0.028253</td>\n      <td>-0.032000</td>\n      <td>-0.032644</td>\n      <td>-0.022247</td>\n      <td>-0.022009</td>\n      <td>-0.003957</td>\n      <td>-0.007758</td>\n      <td>...</td>\n      <td>-0.007957</td>\n      <td>-0.026368</td>\n      <td>-0.066129</td>\n      <td>-0.008098</td>\n      <td>0.003944</td>\n      <td>-0.019562</td>\n      <td>-0.017522</td>\n      <td>0.025219</td>\n      <td>-0.018711</td>\n      <td>-0.007874</td>\n    </tr>\n    <tr>\n      <th>2019-03-25</th>\n      <td>-0.012091</td>\n      <td>-0.000589</td>\n      <td>-0.003837</td>\n      <td>0.022890</td>\n      <td>0.012407</td>\n      <td>-0.003839</td>\n      <td>-0.000190</td>\n      <td>-0.001625</td>\n      <td>-0.004066</td>\n      <td>0.011317</td>\n      <td>...</td>\n      <td>0.000729</td>\n      <td>0.005211</td>\n      <td>0.001703</td>\n      <td>0.002951</td>\n      <td>0.000371</td>\n      <td>-0.000931</td>\n      <td>-0.000261</td>\n      <td>0.005355</td>\n      <td>-0.011537</td>\n      <td>-0.001119</td>\n    </tr>\n    <tr>\n      <th>2019-03-26</th>\n      <td>-0.010332</td>\n      <td>0.009004</td>\n      <td>0.004219</td>\n      <td>-0.000216</td>\n      <td>0.003501</td>\n      <td>-0.009199</td>\n      <td>0.009482</td>\n      <td>0.010090</td>\n      <td>0.021802</td>\n      <td>-0.006104</td>\n      <td>...</td>\n      <td>0.006922</td>\n      <td>0.002125</td>\n      <td>0.012754</td>\n      <td>0.010396</td>\n      <td>0.000222</td>\n      <td>-0.014056</td>\n      <td>0.014834</td>\n      <td>0.009155</td>\n      <td>0.003729</td>\n      <td>0.001528</td>\n    </tr>\n    <tr>\n      <th>2019-03-27</th>\n      <td>0.008994</td>\n      <td>-0.010357</td>\n      <td>-0.004749</td>\n      <td>0.010341</td>\n      <td>-0.004854</td>\n      <td>-0.026851</td>\n      <td>-0.001691</td>\n      <td>-0.010795</td>\n      <td>0.001271</td>\n      <td>0.025589</td>\n      <td>...</td>\n      <td>-0.007598</td>\n      <td>-0.009668</td>\n      <td>-0.003478</td>\n      <td>-0.001165</td>\n      <td>0.010150</td>\n      <td>-0.006902</td>\n      <td>-0.006954</td>\n      <td>0.004123</td>\n      <td>0.005006</td>\n      <td>-0.011290</td>\n    </tr>\n  </tbody>\n</table>\n<p>5 rows × 30 columns</p>\n</div>"
     },
     "execution_count": 4,
     "metadata": {},
     "output_type": "execute_result"
    }
   ],
   "source": [
    "dows_returns.head()"
   ],
   "metadata": {
    "collapsed": false
   }
  },
  {
   "cell_type": "code",
   "execution_count": 12,
   "outputs": [
    {
     "name": "stdout",
     "output_type": "stream",
     "text": [
      "The problem doesn't have a solution with actual input parameters\n"
     ]
    }
   ],
   "source": [
    "port = rp.Portfolio(returns=dows_returns, lowerret=pow(1.5, 0.2) - 1)\n",
    "port.assets_stats()\n",
    "risk_measure = 'SLPM'\n",
    "objective = 'MinRisk'\n",
    "risk_free_rate = 0.04\n",
    "allocations = port.optimization(rm=risk_measure, obj=objective, rf=risk_free_rate)"
   ],
   "metadata": {
    "collapsed": false
   }
  },
  {
   "cell_type": "code",
   "execution_count": 6,
   "outputs": [
    {
     "ename": "ValueError",
     "evalue": "w must be a DataFrame",
     "output_type": "error",
     "traceback": [
      "\u001B[1;31m---------------------------------------------------------------------------\u001B[0m",
      "\u001B[1;31mValueError\u001B[0m                                Traceback (most recent call last)",
      "Input \u001B[1;32mIn [6]\u001B[0m, in \u001B[0;36m<cell line: 1>\u001B[1;34m()\u001B[0m\n\u001B[1;32m----> 1\u001B[0m ax \u001B[38;5;241m=\u001B[39m \u001B[43mrp\u001B[49m\u001B[38;5;241;43m.\u001B[39;49m\u001B[43mplot_pie\u001B[49m\u001B[43m(\u001B[49m\u001B[43mw\u001B[49m\u001B[38;5;241;43m=\u001B[39;49m\u001B[43mallocations\u001B[49m\u001B[43m,\u001B[49m\u001B[43m \u001B[49m\u001B[43mtitle\u001B[49m\u001B[38;5;241;43m=\u001B[39;49m\u001B[38;5;124;43m'\u001B[39;49m\u001B[38;5;124;43mSortino Min Risk\u001B[39;49m\u001B[38;5;124;43m'\u001B[39;49m\u001B[43m,\u001B[49m\u001B[43m \u001B[49m\u001B[43mothers\u001B[49m\u001B[38;5;241;43m=\u001B[39;49m\u001B[38;5;241;43m0.05\u001B[39;49m\u001B[43m,\u001B[49m\u001B[43m \u001B[49m\u001B[43mnrow\u001B[49m\u001B[38;5;241;43m=\u001B[39;49m\u001B[38;5;28;43mlen\u001B[39;49m\u001B[43m(\u001B[49m\u001B[43mport\u001B[49m\u001B[38;5;241;43m.\u001B[39;49m\u001B[43massetslist\u001B[49m\u001B[43m)\u001B[49m\u001B[43m,\u001B[49m\u001B[43m \u001B[49m\u001B[43mcmap\u001B[49m\u001B[43m \u001B[49m\u001B[38;5;241;43m=\u001B[39;49m\u001B[43m \u001B[49m\u001B[38;5;124;43m\"\u001B[39;49m\u001B[38;5;124;43mtab20\u001B[39;49m\u001B[38;5;124;43m\"\u001B[39;49m\u001B[43m,\u001B[49m\u001B[43m \u001B[49m\u001B[43mheight\u001B[49m\u001B[38;5;241;43m=\u001B[39;49m\u001B[38;5;241;43m6\u001B[39;49m\u001B[43m,\u001B[49m\u001B[43m \u001B[49m\u001B[43mwidth\u001B[49m\u001B[38;5;241;43m=\u001B[39;49m\u001B[38;5;241;43m10\u001B[39;49m\u001B[43m,\u001B[49m\u001B[43m \u001B[49m\u001B[43max\u001B[49m\u001B[38;5;241;43m=\u001B[39;49m\u001B[38;5;28;43;01mNone\u001B[39;49;00m\u001B[43m)\u001B[49m\n",
      "File \u001B[1;32mC:\\Program Files\\Python39\\lib\\site-packages\\riskfolio\\PlotFunctions.py:538\u001B[0m, in \u001B[0;36mplot_pie\u001B[1;34m(w, title, others, nrow, cmap, height, width, ax)\u001B[0m\n\u001B[0;32m    492\u001B[0m \u001B[38;5;124mr\u001B[39m\u001B[38;5;124;03m\"\"\"\u001B[39;00m\n\u001B[0;32m    493\u001B[0m \u001B[38;5;124;03mCreate a pie chart with portfolio weights.\u001B[39;00m\n\u001B[0;32m    494\u001B[0m \n\u001B[1;32m   (...)\u001B[0m\n\u001B[0;32m    534\u001B[0m \n\u001B[0;32m    535\u001B[0m \u001B[38;5;124;03m\"\"\"\u001B[39;00m\n\u001B[0;32m    537\u001B[0m \u001B[38;5;28;01mif\u001B[39;00m \u001B[38;5;129;01mnot\u001B[39;00m \u001B[38;5;28misinstance\u001B[39m(w, pd\u001B[38;5;241m.\u001B[39mDataFrame):\n\u001B[1;32m--> 538\u001B[0m     \u001B[38;5;28;01mraise\u001B[39;00m \u001B[38;5;167;01mValueError\u001B[39;00m(\u001B[38;5;124m\"\u001B[39m\u001B[38;5;124mw must be a DataFrame\u001B[39m\u001B[38;5;124m\"\u001B[39m)\n\u001B[0;32m    540\u001B[0m \u001B[38;5;28;01mif\u001B[39;00m w\u001B[38;5;241m.\u001B[39mshape[\u001B[38;5;241m1\u001B[39m] \u001B[38;5;241m>\u001B[39m \u001B[38;5;241m1\u001B[39m \u001B[38;5;129;01mand\u001B[39;00m w\u001B[38;5;241m.\u001B[39mshape[\u001B[38;5;241m0\u001B[39m] \u001B[38;5;241m==\u001B[39m \u001B[38;5;241m0\u001B[39m:\n\u001B[0;32m    541\u001B[0m     w \u001B[38;5;241m=\u001B[39m w\u001B[38;5;241m.\u001B[39mT\n",
      "\u001B[1;31mValueError\u001B[0m: w must be a DataFrame"
     ]
    }
   ],
   "source": [
    "ax = rp.plot_pie(w=allocations, title='Sortino Min Risk', others=0.05, nrow=len(port.assetslist), cmap = \"tab20\", height=6, width=10, ax=None)"
   ],
   "metadata": {
    "collapsed": false
   }
  },
  {
   "cell_type": "code",
   "execution_count": null,
   "outputs": [],
   "source": [
    "frontier = port.efficient_frontier(rm=risk_measure, points=100, rf=risk_free_rate)\n",
    "display(frontier.T.head())"
   ],
   "metadata": {
    "collapsed": false
   }
  },
  {
   "cell_type": "code",
   "execution_count": null,
   "outputs": [],
   "source": [
    "# Plotting the efficient frontier\n",
    "label = 'Sortino Min Risk Portfolio' # Title of point\n",
    "mu = port.mu # Expected returns\n",
    "cov = port.cov # Covariance matrix\n",
    "returns = port.returns # Returns of the assets\n",
    "\n",
    "ax = rp.plot_frontier(w_frontier=frontier, mu=mu, cov=cov, returns=returns, rm=risk_measure, alpha=0.05, cmap='viridis', rf=risk_free_rate, w=allocations, label=label, marker='*', s=16, c='r', height=6, width=10, ax=None)"
   ],
   "metadata": {
    "collapsed": false
   }
  },
  {
   "cell_type": "code",
   "execution_count": null,
   "outputs": [],
   "source": [
    "ax = rp.plot_frontier_area(w_frontier=frontier, cmap=\"tab20\", height=6, width=10, ax=None)"
   ],
   "metadata": {
    "collapsed": false
   }
  },
  {
   "cell_type": "code",
   "execution_count": null,
   "outputs": [],
   "source": [
    "rp.Reports.excel_report(returns, allocations, rf=risk_free_rate, alpha=0.05, t_factor=252, ini_days=1, days_per_year=252, name='dows_1y_report')\n",
    "rp.Reports.jupyter_report(returns, allocations, rm=risk_measure, rf=risk_free_rate, alpha=0.05, others=0.05, nrow=len(port.assetslist), height=6, width=14, t_factor=252, ini_days=1, days_per_year=252, bins=100)"
   ],
   "metadata": {
    "collapsed": false
   }
  },
  {
   "cell_type": "code",
   "execution_count": null,
   "outputs": [],
   "source": [
    "\n",
    "sp500_returns = download_data_and_calc_returns(SP500_tickers)\n",
    "sp500_returns.head()"
   ],
   "metadata": {
    "collapsed": false
   }
  },
  {
   "cell_type": "code",
   "execution_count": null,
   "outputs": [],
   "source": [
    "port = rp.Portfolio(returns=sp500_returns, lowerret=pow(1.5, 0.2)-1)\n",
    "port.assets_stats()\n",
    "risk_measure = 'SLPM'\n",
    "objective = 'MinRisk'\n",
    "allocations = port.optimization(rm=risk_measure, obj=objective, rf=risk_free_rate)\n",
    "ax = rp.plot_pie(w=allocations, title='Sortino Min Risk', others=0.05, nrow=len(port.assetslist), cmap=\"tab20\", height=6, width=10, ax=None)"
   ],
   "metadata": {
    "collapsed": false
   }
  },
  {
   "cell_type": "code",
   "execution_count": null,
   "outputs": [],
   "source": [
    "frontier = port.efficient_frontier(rm=risk_measure, points=100, rf=risk_free_rate)\n",
    "display(frontier.T.head())"
   ],
   "metadata": {
    "collapsed": false
   }
  },
  {
   "cell_type": "code",
   "execution_count": null,
   "outputs": [],
   "source": [
    "# Plotting the efficient frontier\n",
    "label = 'Sortino Min Risk Portfolio'  # Title of point\n",
    "mu = port.mu  # Expected returns\n",
    "cov = port.cov  # Covariance matrix\n",
    "returns = port.returns  # Returns of the assets\n",
    "ax = rp.plot_frontier(w_frontier=frontier, mu=mu, cov=cov, returns=returns, rm=risk_measure, rf=risk_free_rate, alpha=0.05, cmap='viridis', w=allocations, label=label, marker='*', s=16, c='r', height=6, width=10, ax=None)"
   ],
   "metadata": {
    "collapsed": false
   }
  },
  {
   "cell_type": "code",
   "execution_count": null,
   "outputs": [],
   "source": [
    "ax = rp.plot_frontier_area(w_frontier=frontier, cmap=\"tab20\", height=6, width=10, ax=None)"
   ],
   "metadata": {
    "collapsed": false
   }
  },
  {
   "cell_type": "code",
   "execution_count": null,
   "outputs": [],
   "source": [
    "rp.Reports.excel_report(returns, allocations, rf=risk_free_rate, alpha=0.05, t_factor=252, ini_days=1, days_per_year=252, name='sp500_1y_report')\n",
    "rp.Reports.jupyter_report(returns, allocations, rm=risk_measure, rf=risk_free_rate, alpha=0.05, others=0.05, nrow=len(port.assetslist), height=6, width=14, t_factor=252, ini_days=1, days_per_year=252, bins=100)"
   ],
   "metadata": {
    "collapsed": false
   }
  }
 ],
 "metadata": {
  "kernelspec": {
   "display_name": "Python 3",
   "language": "python",
   "name": "python3"
  },
  "language_info": {
   "codemirror_mode": {
    "name": "ipython",
    "version": 2
   },
   "file_extension": ".py",
   "mimetype": "text/x-python",
   "name": "python",
   "nbconvert_exporter": "python",
   "pygments_lexer": "ipython2",
   "version": "2.7.6"
  }
 },
 "nbformat": 4,
 "nbformat_minor": 0
}
